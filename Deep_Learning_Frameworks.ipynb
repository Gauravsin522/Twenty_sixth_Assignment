{
  "cells": [
    {
      "cell_type": "markdown",
      "id": "5450385b",
      "metadata": {
        "id": "5450385b"
      },
      "source": [
        "# Deep Learning Frameworks"
      ]
    },
    {
      "cell_type": "code",
      "execution_count": null,
      "id": "1b9a3c73",
      "metadata": {
        "id": "1b9a3c73"
      },
      "outputs": [],
      "source": [
        "# 1. What is TensorFlow 2.0, and how is it different from TensorFlow 1.x2?\n",
        "\n",
        "# TensorFlow 2.0 is a major update to the TensorFlow library, which is widely used for machine learning and deep learning tasks.\n",
        "# The key differences between TensorFlow 2.0 and its predecessor, TensorFlow 1.x, include:\n",
        "\n",
        "# 1. Eager Execution: TensorFlow 2.0 enables eager execution by default, allowing for immediate evaluation of operations and making\n",
        "# it easier to debug and iterate on models.\n",
        "# In TensorFlow 1.x, a static computation graph was built first, and then executed in\n",
        "# a separate session, which made debugging more complex.\n",
        "# 2. Simplified API: TensorFlow 2.0 provides a more user-friendly and intuitive API, making it easier for developers to build and train models.\n",
        "# The Keras API is integrated into TensorFlow 2.0, allowing for a more streamlined experience when building neural networks.\n",
        "# 3. tf.function: TensorFlow 2.0 introduces the tf.function decorator, which allows users to convert Python functions into TensorFlow graphs,\n",
        "# enabling better performance while still maintaining the flexibility of eager"
      ]
    },
    {
      "cell_type": "code",
      "execution_count": null,
      "id": "a58bc4e3",
      "metadata": {
        "colab": {
          "base_uri": "https://localhost:8080/"
        },
        "id": "a58bc4e3",
        "outputId": "4903ffd5-a262-482c-af85-b616566ada44"
      },
      "outputs": [
        {
          "output_type": "stream",
          "name": "stdout",
          "text": [
            "Requirement already satisfied: tensorflow in /usr/local/lib/python3.11/dist-packages (2.18.0)\n",
            "Requirement already satisfied: absl-py>=1.0.0 in /usr/local/lib/python3.11/dist-packages (from tensorflow) (1.4.0)\n",
            "Requirement already satisfied: astunparse>=1.6.0 in /usr/local/lib/python3.11/dist-packages (from tensorflow) (1.6.3)\n",
            "Requirement already satisfied: flatbuffers>=24.3.25 in /usr/local/lib/python3.11/dist-packages (from tensorflow) (25.2.10)\n",
            "Requirement already satisfied: gast!=0.5.0,!=0.5.1,!=0.5.2,>=0.2.1 in /usr/local/lib/python3.11/dist-packages (from tensorflow) (0.6.0)\n",
            "Requirement already satisfied: google-pasta>=0.1.1 in /usr/local/lib/python3.11/dist-packages (from tensorflow) (0.2.0)\n",
            "Requirement already satisfied: libclang>=13.0.0 in /usr/local/lib/python3.11/dist-packages (from tensorflow) (18.1.1)\n",
            "Requirement already satisfied: opt-einsum>=2.3.2 in /usr/local/lib/python3.11/dist-packages (from tensorflow) (3.4.0)\n",
            "Requirement already satisfied: packaging in /usr/local/lib/python3.11/dist-packages (from tensorflow) (24.2)\n",
            "Requirement already satisfied: protobuf!=4.21.0,!=4.21.1,!=4.21.2,!=4.21.3,!=4.21.4,!=4.21.5,<6.0.0dev,>=3.20.3 in /usr/local/lib/python3.11/dist-packages (from tensorflow) (5.29.4)\n",
            "Requirement already satisfied: requests<3,>=2.21.0 in /usr/local/lib/python3.11/dist-packages (from tensorflow) (2.32.3)\n",
            "Requirement already satisfied: setuptools in /usr/local/lib/python3.11/dist-packages (from tensorflow) (75.2.0)\n",
            "Requirement already satisfied: six>=1.12.0 in /usr/local/lib/python3.11/dist-packages (from tensorflow) (1.17.0)\n",
            "Requirement already satisfied: termcolor>=1.1.0 in /usr/local/lib/python3.11/dist-packages (from tensorflow) (3.0.1)\n",
            "Requirement already satisfied: typing-extensions>=3.6.6 in /usr/local/lib/python3.11/dist-packages (from tensorflow) (4.13.2)\n",
            "Requirement already satisfied: wrapt>=1.11.0 in /usr/local/lib/python3.11/dist-packages (from tensorflow) (1.17.2)\n",
            "Requirement already satisfied: grpcio<2.0,>=1.24.3 in /usr/local/lib/python3.11/dist-packages (from tensorflow) (1.71.0)\n",
            "Requirement already satisfied: tensorboard<2.19,>=2.18 in /usr/local/lib/python3.11/dist-packages (from tensorflow) (2.18.0)\n",
            "Requirement already satisfied: keras>=3.5.0 in /usr/local/lib/python3.11/dist-packages (from tensorflow) (3.8.0)\n",
            "Requirement already satisfied: numpy<2.1.0,>=1.26.0 in /usr/local/lib/python3.11/dist-packages (from tensorflow) (2.0.2)\n",
            "Requirement already satisfied: h5py>=3.11.0 in /usr/local/lib/python3.11/dist-packages (from tensorflow) (3.13.0)\n",
            "Requirement already satisfied: ml-dtypes<0.5.0,>=0.4.0 in /usr/local/lib/python3.11/dist-packages (from tensorflow) (0.4.1)\n",
            "Requirement already satisfied: tensorflow-io-gcs-filesystem>=0.23.1 in /usr/local/lib/python3.11/dist-packages (from tensorflow) (0.37.1)\n",
            "Requirement already satisfied: wheel<1.0,>=0.23.0 in /usr/local/lib/python3.11/dist-packages (from astunparse>=1.6.0->tensorflow) (0.45.1)\n",
            "Requirement already satisfied: rich in /usr/local/lib/python3.11/dist-packages (from keras>=3.5.0->tensorflow) (13.9.4)\n",
            "Requirement already satisfied: namex in /usr/local/lib/python3.11/dist-packages (from keras>=3.5.0->tensorflow) (0.0.8)\n",
            "Requirement already satisfied: optree in /usr/local/lib/python3.11/dist-packages (from keras>=3.5.0->tensorflow) (0.15.0)\n",
            "Requirement already satisfied: charset-normalizer<4,>=2 in /usr/local/lib/python3.11/dist-packages (from requests<3,>=2.21.0->tensorflow) (3.4.1)\n",
            "Requirement already satisfied: idna<4,>=2.5 in /usr/local/lib/python3.11/dist-packages (from requests<3,>=2.21.0->tensorflow) (3.10)\n",
            "Requirement already satisfied: urllib3<3,>=1.21.1 in /usr/local/lib/python3.11/dist-packages (from requests<3,>=2.21.0->tensorflow) (2.3.0)\n",
            "Requirement already satisfied: certifi>=2017.4.17 in /usr/local/lib/python3.11/dist-packages (from requests<3,>=2.21.0->tensorflow) (2025.1.31)\n",
            "Requirement already satisfied: markdown>=2.6.8 in /usr/local/lib/python3.11/dist-packages (from tensorboard<2.19,>=2.18->tensorflow) (3.8)\n",
            "Requirement already satisfied: tensorboard-data-server<0.8.0,>=0.7.0 in /usr/local/lib/python3.11/dist-packages (from tensorboard<2.19,>=2.18->tensorflow) (0.7.2)\n",
            "Requirement already satisfied: werkzeug>=1.0.1 in /usr/local/lib/python3.11/dist-packages (from tensorboard<2.19,>=2.18->tensorflow) (3.1.3)\n",
            "Requirement already satisfied: MarkupSafe>=2.1.1 in /usr/local/lib/python3.11/dist-packages (from werkzeug>=1.0.1->tensorboard<2.19,>=2.18->tensorflow) (3.0.2)\n",
            "Requirement already satisfied: markdown-it-py>=2.2.0 in /usr/local/lib/python3.11/dist-packages (from rich->keras>=3.5.0->tensorflow) (3.0.0)\n",
            "Requirement already satisfied: pygments<3.0.0,>=2.13.0 in /usr/local/lib/python3.11/dist-packages (from rich->keras>=3.5.0->tensorflow) (2.18.0)\n",
            "Requirement already satisfied: mdurl~=0.1 in /usr/local/lib/python3.11/dist-packages (from markdown-it-py>=2.2.0->rich->keras>=3.5.0->tensorflow) (0.1.2)\n"
          ]
        }
      ],
      "source": [
        "# 2. How do you install TensorFlow 2.0 ?\n",
        "\n",
        "# Answer:\n",
        "# You can install TensorFlow 2.0 using pip. Open your terminal or command prompt and run the following command:\n",
        "# ```bash\n",
        "!pip install tensorflow\n",
        "# ```\n",
        "# Make sure you have the appropriate NVIDIA drivers and CUDA toolkit installed for GPU support.\n",
        "# You can also check the official TensorFlow website for installation instructions and compatibility with your system."
      ]
    },
    {
      "cell_type": "code",
      "execution_count": null,
      "id": "f2c11f30",
      "metadata": {
        "id": "f2c11f30"
      },
      "outputs": [],
      "source": [
        "# 3. What is the primary function of the tf.function in TensorFlow 2.0 ?\n",
        "\n",
        "# Answer:\n",
        "# The primary function of tf.function in TensorFlow 2.0 is to convert a Python function into a TensorFlow graph.\n",
        "# This allows for better performance and optimization of the function when it is executed multiple times.\n",
        "# By using tf.function, you can take advantage of TensorFlow's graph execution capabilities while still writing code in a more Pythonic way.\n",
        "\n",
        "# This is particularly useful for training and inference in machine learning models, as it can lead to significant speedups compared to eager execution.\n",
        "# The tf.function decorator automatically traces the function's operations and creates a static computation graph,\n",
        "# which can be optimized and executed more efficiently.\n",
        "# Additionally, tf.function allows for better compatibility with TensorFlow's distributed training and deployment features."
      ]
    },
    {
      "cell_type": "code",
      "execution_count": null,
      "id": "cab129f3",
      "metadata": {
        "id": "cab129f3"
      },
      "outputs": [],
      "source": [
        "# 4. What is the purpose of the Model class in TensorFlow 2.0?\n",
        "\n",
        "#Answer:\n",
        "# The Model class in TensorFlow 2.0 serves as a base class for building and training machine learning models.\n",
        "# It provides a high-level API for defining, compiling, and training models, making it easier to create complex architectures.\n",
        "# The Model class is part of the Keras API, which is integrated into TensorFlow 2.0.\n",
        "# Some key features of the Model class include:\n",
        "# 1. Layer Composition: The Model class allows you to easily stack layers together to create a neural network architecture.\n",
        "# You can use the Sequential model for linear stacks of layers or the Functional API for more complex architectures with multiple inputs and outputs.\n",
        "# 2. Compilation: The Model class provides methods for compiling the model, specifying the optimizer, loss function, and evaluation metrics.\n",
        "# This simplifies the process of preparing the model for training.\n",
        "# 3. Training and Evaluation: The Model class includes methods for training the model (fit), evaluating its performance (evaluate),\n",
        "# and making predictions (predict). These methods handle the training loop, including batching, shuffling, and validation.\n",
        "# 4. Callbacks: The Model class supports callbacks, which are functions that can be called at various stages of training.\n",
        "# This allows you to implement custom behavior, such as saving the model, adjusting the learning rate, or early stopping.\n",
        "# 5. Saving and Loading: The Model class provides methods for saving and loading the model architecture, weights, and training configuration.\n",
        "# This makes it easy to save your work and resume training later or deploy the model for inference.\n",
        "# Overall, the Model class in TensorFlow 2.0 simplifies the process of building and training machine learning models,\n",
        "# allowing developers to focus on the design and implementation of their models rather than the underlying mechanics of training and evaluation."
      ]
    },
    {
      "cell_type": "code",
      "execution_count": null,
      "id": "f2d4d8c6",
      "metadata": {
        "colab": {
          "base_uri": "https://localhost:8080/"
        },
        "id": "f2d4d8c6",
        "outputId": "52b95b83-b105-4e0c-8de2-873f09f4684f"
      },
      "outputs": [
        {
          "output_type": "stream",
          "name": "stdout",
          "text": [
            "Epoch 1/10\n",
            "\u001b[1m25/25\u001b[0m \u001b[32m━━━━━━━━━━━━━━━━━━━━\u001b[0m\u001b[37m\u001b[0m \u001b[1m1s\u001b[0m 13ms/step - accuracy: 0.5105 - loss: 0.6956 - val_accuracy: 0.4350 - val_loss: 0.7019\n",
            "Epoch 2/10\n",
            "\u001b[1m25/25\u001b[0m \u001b[32m━━━━━━━━━━━━━━━━━━━━\u001b[0m\u001b[37m\u001b[0m \u001b[1m0s\u001b[0m 6ms/step - accuracy: 0.4905 - loss: 0.6959 - val_accuracy: 0.4250 - val_loss: 0.7067\n",
            "Epoch 3/10\n",
            "\u001b[1m25/25\u001b[0m \u001b[32m━━━━━━━━━━━━━━━━━━━━\u001b[0m\u001b[37m\u001b[0m \u001b[1m0s\u001b[0m 5ms/step - accuracy: 0.5078 - loss: 0.6906 - val_accuracy: 0.4700 - val_loss: 0.7013\n",
            "Epoch 4/10\n",
            "\u001b[1m25/25\u001b[0m \u001b[32m━━━━━━━━━━━━━━━━━━━━\u001b[0m\u001b[37m\u001b[0m \u001b[1m0s\u001b[0m 5ms/step - accuracy: 0.5697 - loss: 0.6835 - val_accuracy: 0.4850 - val_loss: 0.6979\n",
            "Epoch 5/10\n",
            "\u001b[1m25/25\u001b[0m \u001b[32m━━━━━━━━━━━━━━━━━━━━\u001b[0m\u001b[37m\u001b[0m \u001b[1m0s\u001b[0m 6ms/step - accuracy: 0.5723 - loss: 0.6831 - val_accuracy: 0.4800 - val_loss: 0.6992\n",
            "Epoch 6/10\n",
            "\u001b[1m25/25\u001b[0m \u001b[32m━━━━━━━━━━━━━━━━━━━━\u001b[0m\u001b[37m\u001b[0m \u001b[1m0s\u001b[0m 4ms/step - accuracy: 0.6195 - loss: 0.6794 - val_accuracy: 0.4600 - val_loss: 0.7077\n",
            "Epoch 7/10\n",
            "\u001b[1m25/25\u001b[0m \u001b[32m━━━━━━━━━━━━━━━━━━━━\u001b[0m\u001b[37m\u001b[0m \u001b[1m0s\u001b[0m 4ms/step - accuracy: 0.5924 - loss: 0.6781 - val_accuracy: 0.4750 - val_loss: 0.7111\n",
            "Epoch 8/10\n",
            "\u001b[1m25/25\u001b[0m \u001b[32m━━━━━━━━━━━━━━━━━━━━\u001b[0m\u001b[37m\u001b[0m \u001b[1m0s\u001b[0m 4ms/step - accuracy: 0.5975 - loss: 0.6738 - val_accuracy: 0.4850 - val_loss: 0.7023\n",
            "Epoch 9/10\n",
            "\u001b[1m25/25\u001b[0m \u001b[32m━━━━━━━━━━━━━━━━━━━━\u001b[0m\u001b[37m\u001b[0m \u001b[1m0s\u001b[0m 5ms/step - accuracy: 0.6072 - loss: 0.6724 - val_accuracy: 0.4750 - val_loss: 0.7095\n",
            "Epoch 10/10\n",
            "\u001b[1m25/25\u001b[0m \u001b[32m━━━━━━━━━━━━━━━━━━━━\u001b[0m\u001b[37m\u001b[0m \u001b[1m0s\u001b[0m 5ms/step - accuracy: 0.6163 - loss: 0.6672 - val_accuracy: 0.4700 - val_loss: 0.7118\n",
            "\u001b[1m32/32\u001b[0m \u001b[32m━━━━━━━━━━━━━━━━━━━━\u001b[0m\u001b[37m\u001b[0m \u001b[1m0s\u001b[0m 2ms/step - accuracy: 0.6346 - loss: 0.6672 \n",
            "Test accuracy: 0.597000002861023\n"
          ]
        }
      ],
      "source": [
        "# 5. How do you create a neural network using TensorFlow 2.0?\n",
        "\n",
        "# Answer:\n",
        "# To create a neural network using TensorFlow 2.0, you can use the Keras API, which is integrated into TensorFlow.\n",
        "# Here's a simple example of how to create a feedforward neural network using the Sequential model:\n",
        "\n",
        "# ```python\n",
        "import tensorflow as tf\n",
        "from tensorflow.keras import layers, models\n",
        "import numpy as np\n",
        "\n",
        "# Generate some random data for demonstration\n",
        "x_train = np.random.rand(1000, 20)  # 1000 samples, 20 features\n",
        "y_train = np.random.randint(0, 2, size=(1000, 1))  # Binary classification\n",
        "\n",
        "# Create a Sequential model\n",
        "model = models.Sequential()\n",
        "model.add(layers.Dense(64, activation='relu', input_shape=(20,)))  # Input layer\n",
        "model.add(layers.Dense(64, activation='relu'))  # Hidden layer\n",
        "model.add(layers.Dense(1, activation='sigmoid'))  # Output layer\n",
        "\n",
        "# Compile the model\n",
        "model.compile(optimizer='adam',\n",
        "              loss='binary_crossentropy',\n",
        "              metrics=['accuracy'])\n",
        "\n",
        "# Train the model\n",
        "model.fit(x_train, y_train, epochs=10, batch_size=32, validation_split=0.2)\n",
        "\n",
        "# Evaluate the model\n",
        "test_loss, test_accuracy = model.evaluate(x_train, y_train)\n",
        "print(f'Test accuracy: {test_accuracy}')\n",
        "# ```\n",
        "# In this example, we create a simple feedforward neural network with two hidden layers using the Sequential model.\n",
        "# We compile the model with the Adam optimizer and binary crossentropy loss function for binary classification.\n",
        "# Finally, we train the model on random data and evaluate its performance.\n",
        "# You can customize the architecture, activation functions, and other parameters based on your specific use case.\n",
        "# The Keras API also allows you to create more complex architectures using the Functional API if needed."
      ]
    },
    {
      "cell_type": "code",
      "execution_count": null,
      "id": "0685fb09",
      "metadata": {
        "id": "0685fb09"
      },
      "outputs": [],
      "source": [
        "# 6. What is the importance of Tensor Space in TensorFlow?\n",
        "\n",
        "# Answer:\n",
        "# Tensor space is a fundamental concept in TensorFlow, as it provides the mathematical framework for representing and manipulating data.\n",
        "# Tensors are multi-dimensional arrays that generalize scalars, vectors, and matrices to higher dimensions.\n",
        "# The importance of tensor space in TensorFlow includes:\n",
        "# 1. Data Representation: Tensors are the primary data structure in TensorFlow, allowing for efficient representation of various types of data,\n",
        "# including images, text, and time series. Each tensor has a shape that defines its dimensions and the number of elements it contains.\n",
        "# 2. Mathematical Operations: Tensor space enables the definition of mathematical operations on tensors, such as addition, multiplication,\n",
        "# and matrix operations. TensorFlow provides a wide range of built-in functions for performing these operations efficiently.\n",
        "# 3. Automatic Differentiation: Tensor space is essential for automatic differentiation, which is a key feature of TensorFlow.\n",
        "# TensorFlow can compute gradients of functions with respect to their inputs, enabling efficient optimization of machine learning models.\n",
        "# This is particularly important for training neural networks using gradient descent and backpropagation.\n",
        "# 4. GPU Acceleration: Tensor space allows TensorFlow to leverage GPU acceleration for performing tensor operations in parallel.\n",
        "# This significantly speeds up computations, especially for large-scale machine learning tasks.\n",
        "# 5. Flexibility: Tensor space provides a flexible framework for defining complex data structures and operations,\n",
        "# allowing developers to create custom models and algorithms.\n",
        "# TensorFlow's support for dynamic shapes and broadcasting makes it easier to work with tensors of varying dimensions.\n",
        "# 6. Interoperability: Tensor space enables interoperability with other libraries and frameworks in the machine learning ecosystem.\n",
        "# Tensors can be easily converted to and from NumPy arrays, making it easy to integrate TensorFlow with other scientific computing libraries.\n",
        "# Overall, tensor space is a foundational concept in TensorFlow that underpins its functionality and performance,\n",
        "# enabling efficient representation, manipulation, and optimization of data in machine learning and deep learning applications."
      ]
    },
    {
      "cell_type": "code",
      "execution_count": null,
      "id": "298e8adc",
      "metadata": {
        "colab": {
          "base_uri": "https://localhost:8080/"
        },
        "id": "298e8adc",
        "outputId": "53373bda-d4f6-445d-aea5-036fb416bef5"
      },
      "outputs": [
        {
          "output_type": "stream",
          "name": "stdout",
          "text": [
            "Epoch 1/10\n",
            "\u001b[1m25/25\u001b[0m \u001b[32m━━━━━━━━━━━━━━━━━━━━\u001b[0m\u001b[37m\u001b[0m \u001b[1m2s\u001b[0m 18ms/step - accuracy: 0.5233 - loss: 0.6946 - val_accuracy: 0.4550 - val_loss: 0.7051\n",
            "Epoch 2/10\n",
            "\u001b[1m25/25\u001b[0m \u001b[32m━━━━━━━━━━━━━━━━━━━━\u001b[0m\u001b[37m\u001b[0m \u001b[1m0s\u001b[0m 9ms/step - accuracy: 0.5227 - loss: 0.6905 - val_accuracy: 0.4800 - val_loss: 0.7002\n",
            "Epoch 3/10\n",
            "\u001b[1m25/25\u001b[0m \u001b[32m━━━━━━━━━━━━━━━━━━━━\u001b[0m\u001b[37m\u001b[0m \u001b[1m0s\u001b[0m 8ms/step - accuracy: 0.5388 - loss: 0.6850 - val_accuracy: 0.5000 - val_loss: 0.7010\n",
            "Epoch 4/10\n",
            "\u001b[1m25/25\u001b[0m \u001b[32m━━━━━━━━━━━━━━━━━━━━\u001b[0m\u001b[37m\u001b[0m \u001b[1m0s\u001b[0m 9ms/step - accuracy: 0.5320 - loss: 0.6850 - val_accuracy: 0.4750 - val_loss: 0.7062\n",
            "Epoch 5/10\n",
            "\u001b[1m25/25\u001b[0m \u001b[32m━━━━━━━━━━━━━━━━━━━━\u001b[0m\u001b[37m\u001b[0m \u001b[1m0s\u001b[0m 7ms/step - accuracy: 0.5513 - loss: 0.6892 - val_accuracy: 0.4550 - val_loss: 0.7079\n",
            "Epoch 6/10\n",
            "\u001b[1m25/25\u001b[0m \u001b[32m━━━━━━━━━━━━━━━━━━━━\u001b[0m\u001b[37m\u001b[0m \u001b[1m0s\u001b[0m 8ms/step - accuracy: 0.5753 - loss: 0.6825 - val_accuracy: 0.4800 - val_loss: 0.7088\n",
            "Epoch 7/10\n",
            "\u001b[1m25/25\u001b[0m \u001b[32m━━━━━━━━━━━━━━━━━━━━\u001b[0m\u001b[37m\u001b[0m \u001b[1m0s\u001b[0m 7ms/step - accuracy: 0.5813 - loss: 0.6801 - val_accuracy: 0.4500 - val_loss: 0.7161\n",
            "Epoch 8/10\n",
            "\u001b[1m25/25\u001b[0m \u001b[32m━━━━━━━━━━━━━━━━━━━━\u001b[0m\u001b[37m\u001b[0m \u001b[1m0s\u001b[0m 7ms/step - accuracy: 0.6186 - loss: 0.6716 - val_accuracy: 0.5000 - val_loss: 0.7044\n",
            "Epoch 9/10\n",
            "\u001b[1m25/25\u001b[0m \u001b[32m━━━━━━━━━━━━━━━━━━━━\u001b[0m\u001b[37m\u001b[0m \u001b[1m0s\u001b[0m 7ms/step - accuracy: 0.5987 - loss: 0.6712 - val_accuracy: 0.4800 - val_loss: 0.7043\n",
            "Epoch 10/10\n",
            "\u001b[1m25/25\u001b[0m \u001b[32m━━━━━━━━━━━━━━━━━━━━\u001b[0m\u001b[37m\u001b[0m \u001b[1m0s\u001b[0m 7ms/step - accuracy: 0.5857 - loss: 0.6714 - val_accuracy: 0.5150 - val_loss: 0.7021\n"
          ]
        },
        {
          "output_type": "execute_result",
          "data": {
            "text/plain": [
              "<keras.src.callbacks.history.History at 0x7c77e9b74dd0>"
            ]
          },
          "metadata": {},
          "execution_count": 7
        }
      ],
      "source": [
        "# 7. How can TensorBoard be integrated with TensorFlow 2.0?\n",
        "\n",
        "# Answer:\n",
        "# TensorBoard is a powerful visualization tool that allows you to monitor and analyze your TensorFlow models during training.\n",
        "# In TensorFlow 2.0, integrating TensorBoard is straightforward, especially when using the Keras API. Here's how to do it:\n",
        "\n",
        "# 1. Import the necessary libraries:\n",
        "# ```python\n",
        "import tensorflow as tf\n",
        "from tensorflow.keras import layers, models\n",
        "from tensorflow.keras.callbacks import TensorBoard\n",
        "import numpy as np\n",
        "import datetime\n",
        "# ```\n",
        "# 2. Generate some random data for demonstration:\n",
        "# ```python\n",
        "x_train = np.random.rand(1000, 20)  # 1000 samples, 20 features\n",
        "y_train = np.random.randint(0, 2, size=(1000, 1))  # Binary classification\n",
        "# ```\n",
        "# 3. Create a Sequential model:\n",
        "# ```python\n",
        "model = models.Sequential()\n",
        "model.add(layers.Dense(64, activation='relu', input_shape=(20,)))  # Input layer\n",
        "model.add(layers.Dense(64, activation='relu'))  # Hidden layer\n",
        "model.add(layers.Dense(1, activation='sigmoid'))  # Output layer\n",
        "# ```\n",
        "# 4. Compile the model:\n",
        "# ```python\n",
        "model.compile(optimizer='adam',\n",
        "              loss='binary_crossentropy',\n",
        "              metrics=['accuracy'])\n",
        "# ```\n",
        "# 5. Set up TensorBoard callback:\n",
        "# ```python\n",
        "log_dir = \"logs/fit/\" + datetime.datetime.now().strftime(\"%Y%m%d-%H%M%S\")\n",
        "tensorboard_callback = TensorBoard(log_dir=log_dir, histogram_freq=1)\n",
        "# ```\n",
        "# 6. Train the model with TensorBoard callback:\n",
        "# ```python\n",
        "model.fit(x_train, y_train,\n",
        "          epochs=10,\n",
        "          batch_size=32,\n",
        "          validation_split=0.2,\n",
        "          callbacks=[tensorboard_callback])\n",
        "# ```\n",
        "# 7. Launch TensorBoard:\n",
        "# After training, you can launch TensorBoard to visualize the training process. Open a terminal and run:\n",
        "# ```bash\n",
        "# tensorboard --logdir=logs/fit\n",
        "# ```\n",
        "# Then, open your web browser and go to `http://localhost:6006` to view the TensorBoard dashboard.\n",
        "# You can monitor various metrics such as loss, accuracy, and histograms of weights and biases during training.\n",
        "# TensorBoard also provides tools for visualizing model graphs, distributions, and more.\n",
        "# This integration allows you to gain insights into your model's performance and make informed decisions during the training process."
      ]
    },
    {
      "cell_type": "code",
      "execution_count": null,
      "id": "28948a3b",
      "metadata": {
        "id": "28948a3b"
      },
      "outputs": [],
      "source": [
        "# 8. What is the purpose of TensorFlow Playground?\n",
        "\n",
        "# Answer:\n",
        "# TensorFlow Playground is an interactive web-based tool that allows users to experiment with and visualize neural networks in a simplified environment.\n",
        "# It is designed to help users understand the concepts of machine learning and neural networks without requiring any programming or installation.\n",
        "# The main purposes of TensorFlow Playground include:\n",
        "# 1. Educational Tool: TensorFlow Playground serves as an educational resource for beginners and those new to machine learning.\n",
        "# It provides a hands-on experience for learning about neural networks, activation functions, and optimization techniques.\n",
        "# Users can experiment with different configurations and observe how changes affect the model's performance.\n",
        "# 2. Visualization: The tool provides visualizations of the neural network architecture, including the layers, neurons, and connections.\n",
        "# Users can see how the model learns from data by visualizing decision boundaries and the impact of different hyperparameters.\n",
        "# 3. Experimentation: TensorFlow Playground allows users to experiment with various hyperparameters, such as the number of layers,\n",
        "# number of neurons, learning rate, and activation functions.\n",
        "# Users can observe how these changes affect the model's ability to learn and generalize from the data.\n",
        "# 4. Intuitive Interface: The web-based interface is user-friendly and intuitive, making it accessible to a wide audience.\n",
        "# Users can easily adjust parameters using sliders and buttons, making it easy to explore different configurations.\n",
        "# 5. No Setup Required: TensorFlow Playground runs in the browser, eliminating the need for installation or setup.\n",
        "# This makes it convenient for users to start experimenting with neural networks immediately.\n",
        "# 6. Understanding Concepts: By using TensorFlow Playground, users can gain a better understanding of key concepts in machine learning,\n",
        "# such as overfitting, underfitting, and the impact of different activation functions on model performance.\n",
        "# Overall, TensorFlow Playground is a valuable tool for learning and experimenting with neural networks in a visual and interactive way.\n",
        "# It helps users grasp the fundamental concepts of machine learning and neural networks before diving into more complex implementations using TensorFlow or other libraries.\n",
        "# The tool is particularly useful for educators, students, and anyone interested in gaining a deeper understanding of how neural networks work.\n",
        "# TensorFlow Playground can be accessed at the following URL: https://playground.tensorflow.org/"
      ]
    },
    {
      "cell_type": "code",
      "execution_count": null,
      "id": "931d2b08",
      "metadata": {
        "id": "931d2b08"
      },
      "outputs": [],
      "source": [
        "# 9. What is Netron, and how is it useful for deep learning models?\n",
        "\n",
        "# Answer:\n",
        "# Netron is an open-source viewer for neural network models. It provides a graphical interface for visualizing and analyzing deep learning models,\n",
        "# making it easier to understand their architecture and structure.\n",
        "# Netron supports various model formats, including TensorFlow, Keras, PyTorch, ONNX, Caffe, and more.\n",
        "# It is available as a web application and can also be installed as a desktop application for Windows, macOS, and Linux.\n",
        "# The main purposes and features of Netron include:\n",
        "# 1. Model Visualization: Netron allows users to visualize the architecture of deep learning models in a clear and intuitive way.\n",
        "# Users can see the layers, operations, and connections between them, making it easier to understand how the model processes data.\n",
        "# 2. Layer Details: Users can click on individual layers to view detailed information about their parameters, shapes, and configurations.\n",
        "# This helps in understanding the role of each layer in the model and how they contribute to the overall architecture.\n",
        "# 3. Model Debugging: Netron can be useful for debugging and troubleshooting deep learning models.\n",
        "# By visualizing the model, users can identify potential issues, such as incorrect layer connections or unexpected shapes.\n",
        "# This can help in diagnosing problems during model development and training.\n",
        "# 4. Model Comparison: Netron allows users to compare different versions of models or different architectures side by side.\n",
        "# This can be helpful when experimenting with different designs or when trying to understand the differences between various models.\n",
        "# 5. Export and Import: Netron supports various model formats, making it easy to import models from different frameworks and export them for use in other applications.\n",
        "# This interoperability is beneficial for researchers and developers working with multiple deep learning libraries.\n",
        "# 6. Documentation: Netron can serve as a form of documentation for deep learning models, providing a visual representation of the architecture.\n",
        "# This can be useful for sharing models with others or for future reference.\n",
        "# 7. Accessibility: Netron is available as a web application, making it easy to access and use without requiring installation.\n",
        "# The desktop version can be installed for offline use.\n",
        "# This flexibility allows users to visualize models on different platforms.\n",
        "# Overall, Netron is a valuable tool for anyone working with deep learning models.\n",
        "# It simplifies the process of understanding, debugging, and documenting neural network architectures,\n",
        "# making it easier for researchers, developers, and educators to work with complex models.\n",
        "# By providing a clear and interactive visualization of model structures, Netron enhances the workflow of deep learning practitioners and helps them gain insights into their models.\n",
        "# Netron can be accessed at the following URL: https://netron.app/\n",
        "# It can also be installed as a desktop application from the same website."
      ]
    },
    {
      "cell_type": "code",
      "execution_count": null,
      "id": "4053c914",
      "metadata": {
        "id": "4053c914"
      },
      "outputs": [],
      "source": [
        "# 10. What is the difference between TensorFlow and PyTorch?\n",
        "\n",
        "# Answer:\n",
        "# TensorFlow and PyTorch are two of the most popular deep learning frameworks, each with its own strengths and weaknesses.\n",
        "# Here are some key differences between TensorFlow and PyTorch:\n",
        "# 1. Programming Paradigm:\n",
        "# TensorFlow primarily uses a static computation graph approach, where the computation graph is defined before execution.\n",
        "# This means that you need to build the entire graph before running any operations.\n",
        "# TensorFlow 2.0 introduced eager execution, which allows for dynamic graph execution similar to PyTorch.\n",
        "# However, TensorFlow still retains the option to use static graphs for performance optimization.\n",
        "# PyTorch, on the other hand, uses a dynamic computation graph approach, where the graph is built on-the-fly during execution.\n",
        "# This makes PyTorch more intuitive and easier to debug, as it behaves more like standard Python code.\n",
        "\n",
        "# 2. Ease of Use:\n",
        "# PyTorch is often considered more user-friendly and Pythonic, making it a popular choice for researchers and developers.\n",
        "# TensorFlow, especially in its earlier versions, had a steeper learning curve due to its static graph approach.\n",
        "# TensorFlow 2.0 has improved usability with the integration of the Keras API and eager execution.\n",
        "# 3. Community and Ecosystem:\n",
        "# TensorFlow has a larger ecosystem and more extensive community support, including tools like TensorBoard for visualization\n",
        "# and TensorFlow Lite for deploying models on mobile and embedded devices.\n",
        "# PyTorch has a growing community and ecosystem, with tools like TorchServe for model serving and integration with libraries like Hugging Face.\n",
        "# 4. Performance:\n",
        "# TensorFlow is often considered more optimized for production environments, with better support for distributed training\n",
        "# and deployment on various platforms, including mobile and edge devices.\n",
        "# PyTorch is widely used in research due to its flexibility and ease of experimentation.\n",
        "# 5. Model Deployment:\n",
        "# TensorFlow provides robust tools for deploying models in production, such as TensorFlow Serving and TensorFlow Lite.\n",
        "# PyTorch has made significant strides in this area with TorchScript and ONNX (Open Neural Network Exchange) support.\n",
        "# 6. Debugging:\n",
        "# PyTorch's dynamic computation graph makes it easier to debug models using standard Python debugging tools.\n",
        "# TensorFlow's static graph approach can make debugging more challenging, although eager execution in TensorFlow 2.0 has improved this aspect.\n",
        "# 7. Popularity in Research vs. Industry:\n",
        "# PyTorch is widely adopted in the research community due to its flexibility and ease of use.\n",
        "# TensorFlow is more commonly used in industry for production-grade applications due to its scalability and deployment capabilities.\n",
        "# In summary, the choice between TensorFlow and PyTorch depends on the specific use case and user preferences.\n",
        "# PyTorch is often preferred for research and experimentation, while TensorFlow is favored for production and deployment."
      ]
    },
    {
      "cell_type": "code",
      "execution_count": null,
      "id": "6d23b708",
      "metadata": {
        "colab": {
          "base_uri": "https://localhost:8080/"
        },
        "id": "6d23b708",
        "outputId": "038a6f00-3604-47ab-8258-44a38117efed"
      },
      "outputs": [
        {
          "output_type": "stream",
          "name": "stdout",
          "text": [
            "Requirement already satisfied: torch in /usr/local/lib/python3.11/dist-packages (2.6.0+cu124)\n",
            "Requirement already satisfied: torchvision in /usr/local/lib/python3.11/dist-packages (0.21.0+cu124)\n",
            "Requirement already satisfied: torchaudio in /usr/local/lib/python3.11/dist-packages (2.6.0+cu124)\n",
            "Requirement already satisfied: filelock in /usr/local/lib/python3.11/dist-packages (from torch) (3.18.0)\n",
            "Requirement already satisfied: typing-extensions>=4.10.0 in /usr/local/lib/python3.11/dist-packages (from torch) (4.13.2)\n",
            "Requirement already satisfied: networkx in /usr/local/lib/python3.11/dist-packages (from torch) (3.4.2)\n",
            "Requirement already satisfied: jinja2 in /usr/local/lib/python3.11/dist-packages (from torch) (3.1.6)\n",
            "Requirement already satisfied: fsspec in /usr/local/lib/python3.11/dist-packages (from torch) (2025.3.2)\n",
            "Collecting nvidia-cuda-nvrtc-cu12==12.4.127 (from torch)\n",
            "  Downloading nvidia_cuda_nvrtc_cu12-12.4.127-py3-none-manylinux2014_x86_64.whl.metadata (1.5 kB)\n",
            "Collecting nvidia-cuda-runtime-cu12==12.4.127 (from torch)\n",
            "  Downloading nvidia_cuda_runtime_cu12-12.4.127-py3-none-manylinux2014_x86_64.whl.metadata (1.5 kB)\n",
            "Collecting nvidia-cuda-cupti-cu12==12.4.127 (from torch)\n",
            "  Downloading nvidia_cuda_cupti_cu12-12.4.127-py3-none-manylinux2014_x86_64.whl.metadata (1.6 kB)\n",
            "Collecting nvidia-cudnn-cu12==9.1.0.70 (from torch)\n",
            "  Downloading nvidia_cudnn_cu12-9.1.0.70-py3-none-manylinux2014_x86_64.whl.metadata (1.6 kB)\n",
            "Collecting nvidia-cublas-cu12==12.4.5.8 (from torch)\n",
            "  Downloading nvidia_cublas_cu12-12.4.5.8-py3-none-manylinux2014_x86_64.whl.metadata (1.5 kB)\n",
            "Collecting nvidia-cufft-cu12==11.2.1.3 (from torch)\n",
            "  Downloading nvidia_cufft_cu12-11.2.1.3-py3-none-manylinux2014_x86_64.whl.metadata (1.5 kB)\n",
            "Collecting nvidia-curand-cu12==10.3.5.147 (from torch)\n",
            "  Downloading nvidia_curand_cu12-10.3.5.147-py3-none-manylinux2014_x86_64.whl.metadata (1.5 kB)\n",
            "Collecting nvidia-cusolver-cu12==11.6.1.9 (from torch)\n",
            "  Downloading nvidia_cusolver_cu12-11.6.1.9-py3-none-manylinux2014_x86_64.whl.metadata (1.6 kB)\n",
            "Collecting nvidia-cusparse-cu12==12.3.1.170 (from torch)\n",
            "  Downloading nvidia_cusparse_cu12-12.3.1.170-py3-none-manylinux2014_x86_64.whl.metadata (1.6 kB)\n",
            "Requirement already satisfied: nvidia-cusparselt-cu12==0.6.2 in /usr/local/lib/python3.11/dist-packages (from torch) (0.6.2)\n",
            "Requirement already satisfied: nvidia-nccl-cu12==2.21.5 in /usr/local/lib/python3.11/dist-packages (from torch) (2.21.5)\n",
            "Requirement already satisfied: nvidia-nvtx-cu12==12.4.127 in /usr/local/lib/python3.11/dist-packages (from torch) (12.4.127)\n",
            "Collecting nvidia-nvjitlink-cu12==12.4.127 (from torch)\n",
            "  Downloading nvidia_nvjitlink_cu12-12.4.127-py3-none-manylinux2014_x86_64.whl.metadata (1.5 kB)\n",
            "Requirement already satisfied: triton==3.2.0 in /usr/local/lib/python3.11/dist-packages (from torch) (3.2.0)\n",
            "Requirement already satisfied: sympy==1.13.1 in /usr/local/lib/python3.11/dist-packages (from torch) (1.13.1)\n",
            "Requirement already satisfied: mpmath<1.4,>=1.1.0 in /usr/local/lib/python3.11/dist-packages (from sympy==1.13.1->torch) (1.3.0)\n",
            "Requirement already satisfied: numpy in /usr/local/lib/python3.11/dist-packages (from torchvision) (2.0.2)\n",
            "Requirement already satisfied: pillow!=8.3.*,>=5.3.0 in /usr/local/lib/python3.11/dist-packages (from torchvision) (11.1.0)\n",
            "Requirement already satisfied: MarkupSafe>=2.0 in /usr/local/lib/python3.11/dist-packages (from jinja2->torch) (3.0.2)\n",
            "Downloading nvidia_cublas_cu12-12.4.5.8-py3-none-manylinux2014_x86_64.whl (363.4 MB)\n",
            "\u001b[2K   \u001b[90m━━━━━━━━━━━━━━━━━━━━━━━━━━━━━━━━━━━━━━━━\u001b[0m \u001b[32m363.4/363.4 MB\u001b[0m \u001b[31m4.6 MB/s\u001b[0m eta \u001b[36m0:00:00\u001b[0m\n",
            "\u001b[?25hDownloading nvidia_cuda_cupti_cu12-12.4.127-py3-none-manylinux2014_x86_64.whl (13.8 MB)\n",
            "\u001b[2K   \u001b[90m━━━━━━━━━━━━━━━━━━━━━━━━━━━━━━━━━━━━━━━━\u001b[0m \u001b[32m13.8/13.8 MB\u001b[0m \u001b[31m37.1 MB/s\u001b[0m eta \u001b[36m0:00:00\u001b[0m\n",
            "\u001b[?25hDownloading nvidia_cuda_nvrtc_cu12-12.4.127-py3-none-manylinux2014_x86_64.whl (24.6 MB)\n",
            "\u001b[2K   \u001b[90m━━━━━━━━━━━━━━━━━━━━━━━━━━━━━━━━━━━━━━━━\u001b[0m \u001b[32m24.6/24.6 MB\u001b[0m \u001b[31m30.1 MB/s\u001b[0m eta \u001b[36m0:00:00\u001b[0m\n",
            "\u001b[?25hDownloading nvidia_cuda_runtime_cu12-12.4.127-py3-none-manylinux2014_x86_64.whl (883 kB)\n",
            "\u001b[2K   \u001b[90m━━━━━━━━━━━━━━━━━━━━━━━━━━━━━━━━━━━━━━━━\u001b[0m \u001b[32m883.7/883.7 kB\u001b[0m \u001b[31m36.8 MB/s\u001b[0m eta \u001b[36m0:00:00\u001b[0m\n",
            "\u001b[?25hDownloading nvidia_cudnn_cu12-9.1.0.70-py3-none-manylinux2014_x86_64.whl (664.8 MB)\n",
            "\u001b[2K   \u001b[90m━━━━━━━━━━━━━━━━━━━━━━━━━━━━━━━━━━━━━━━━\u001b[0m \u001b[32m664.8/664.8 MB\u001b[0m \u001b[31m2.5 MB/s\u001b[0m eta \u001b[36m0:00:00\u001b[0m\n",
            "\u001b[?25hDownloading nvidia_cufft_cu12-11.2.1.3-py3-none-manylinux2014_x86_64.whl (211.5 MB)\n",
            "\u001b[2K   \u001b[90m━━━━━━━━━━━━━━━━━━━━━━━━━━━━━━━━━━━━━━━━\u001b[0m \u001b[32m211.5/211.5 MB\u001b[0m \u001b[31m5.1 MB/s\u001b[0m eta \u001b[36m0:00:00\u001b[0m\n",
            "\u001b[?25hDownloading nvidia_curand_cu12-10.3.5.147-py3-none-manylinux2014_x86_64.whl (56.3 MB)\n",
            "\u001b[2K   \u001b[90m━━━━━━━━━━━━━━━━━━━━━━━━━━━━━━━━━━━━━━━━\u001b[0m \u001b[32m56.3/56.3 MB\u001b[0m \u001b[31m22.8 MB/s\u001b[0m eta \u001b[36m0:00:00\u001b[0m\n",
            "\u001b[?25hDownloading nvidia_cusolver_cu12-11.6.1.9-py3-none-manylinux2014_x86_64.whl (127.9 MB)\n",
            "\u001b[2K   \u001b[90m━━━━━━━━━━━━━━━━━━━━━━━━━━━━━━━━━━━━━━━━\u001b[0m \u001b[32m127.9/127.9 MB\u001b[0m \u001b[31m7.2 MB/s\u001b[0m eta \u001b[36m0:00:00\u001b[0m\n",
            "\u001b[?25hDownloading nvidia_cusparse_cu12-12.3.1.170-py3-none-manylinux2014_x86_64.whl (207.5 MB)\n",
            "\u001b[2K   \u001b[90m━━━━━━━━━━━━━━━━━━━━━━━━━━━━━━━━━━━━━━━━\u001b[0m \u001b[32m207.5/207.5 MB\u001b[0m \u001b[31m5.4 MB/s\u001b[0m eta \u001b[36m0:00:00\u001b[0m\n",
            "\u001b[?25hDownloading nvidia_nvjitlink_cu12-12.4.127-py3-none-manylinux2014_x86_64.whl (21.1 MB)\n",
            "\u001b[2K   \u001b[90m━━━━━━━━━━━━━━━━━━━━━━━━━━━━━━━━━━━━━━━━\u001b[0m \u001b[32m21.1/21.1 MB\u001b[0m \u001b[31m107.7 MB/s\u001b[0m eta \u001b[36m0:00:00\u001b[0m\n",
            "\u001b[?25hInstalling collected packages: nvidia-nvjitlink-cu12, nvidia-curand-cu12, nvidia-cufft-cu12, nvidia-cuda-runtime-cu12, nvidia-cuda-nvrtc-cu12, nvidia-cuda-cupti-cu12, nvidia-cublas-cu12, nvidia-cusparse-cu12, nvidia-cudnn-cu12, nvidia-cusolver-cu12\n",
            "  Attempting uninstall: nvidia-nvjitlink-cu12\n",
            "    Found existing installation: nvidia-nvjitlink-cu12 12.5.82\n",
            "    Uninstalling nvidia-nvjitlink-cu12-12.5.82:\n",
            "      Successfully uninstalled nvidia-nvjitlink-cu12-12.5.82\n",
            "  Attempting uninstall: nvidia-curand-cu12\n",
            "    Found existing installation: nvidia-curand-cu12 10.3.6.82\n",
            "    Uninstalling nvidia-curand-cu12-10.3.6.82:\n",
            "      Successfully uninstalled nvidia-curand-cu12-10.3.6.82\n",
            "  Attempting uninstall: nvidia-cufft-cu12\n",
            "    Found existing installation: nvidia-cufft-cu12 11.2.3.61\n",
            "    Uninstalling nvidia-cufft-cu12-11.2.3.61:\n",
            "      Successfully uninstalled nvidia-cufft-cu12-11.2.3.61\n",
            "  Attempting uninstall: nvidia-cuda-runtime-cu12\n",
            "    Found existing installation: nvidia-cuda-runtime-cu12 12.5.82\n",
            "    Uninstalling nvidia-cuda-runtime-cu12-12.5.82:\n",
            "      Successfully uninstalled nvidia-cuda-runtime-cu12-12.5.82\n",
            "  Attempting uninstall: nvidia-cuda-nvrtc-cu12\n",
            "    Found existing installation: nvidia-cuda-nvrtc-cu12 12.5.82\n",
            "    Uninstalling nvidia-cuda-nvrtc-cu12-12.5.82:\n",
            "      Successfully uninstalled nvidia-cuda-nvrtc-cu12-12.5.82\n",
            "  Attempting uninstall: nvidia-cuda-cupti-cu12\n",
            "    Found existing installation: nvidia-cuda-cupti-cu12 12.5.82\n",
            "    Uninstalling nvidia-cuda-cupti-cu12-12.5.82:\n",
            "      Successfully uninstalled nvidia-cuda-cupti-cu12-12.5.82\n",
            "  Attempting uninstall: nvidia-cublas-cu12\n",
            "    Found existing installation: nvidia-cublas-cu12 12.5.3.2\n",
            "    Uninstalling nvidia-cublas-cu12-12.5.3.2:\n",
            "      Successfully uninstalled nvidia-cublas-cu12-12.5.3.2\n",
            "  Attempting uninstall: nvidia-cusparse-cu12\n",
            "    Found existing installation: nvidia-cusparse-cu12 12.5.1.3\n",
            "    Uninstalling nvidia-cusparse-cu12-12.5.1.3:\n",
            "      Successfully uninstalled nvidia-cusparse-cu12-12.5.1.3\n",
            "  Attempting uninstall: nvidia-cudnn-cu12\n",
            "    Found existing installation: nvidia-cudnn-cu12 9.3.0.75\n",
            "    Uninstalling nvidia-cudnn-cu12-9.3.0.75:\n",
            "      Successfully uninstalled nvidia-cudnn-cu12-9.3.0.75\n",
            "  Attempting uninstall: nvidia-cusolver-cu12\n",
            "    Found existing installation: nvidia-cusolver-cu12 11.6.3.83\n",
            "    Uninstalling nvidia-cusolver-cu12-11.6.3.83:\n",
            "      Successfully uninstalled nvidia-cusolver-cu12-11.6.3.83\n",
            "Successfully installed nvidia-cublas-cu12-12.4.5.8 nvidia-cuda-cupti-cu12-12.4.127 nvidia-cuda-nvrtc-cu12-12.4.127 nvidia-cuda-runtime-cu12-12.4.127 nvidia-cudnn-cu12-9.1.0.70 nvidia-cufft-cu12-11.2.1.3 nvidia-curand-cu12-10.3.5.147 nvidia-cusolver-cu12-11.6.1.9 nvidia-cusparse-cu12-12.3.1.170 nvidia-nvjitlink-cu12-12.4.127\n",
            "Looking in indexes: https://pypi.org/simple, https://download.pytorch.org/whl/cu113\n",
            "Requirement already satisfied: torch in /usr/local/lib/python3.11/dist-packages (2.6.0+cu124)\n",
            "Requirement already satisfied: torchvision in /usr/local/lib/python3.11/dist-packages (0.21.0+cu124)\n",
            "Requirement already satisfied: torchaudio in /usr/local/lib/python3.11/dist-packages (2.6.0+cu124)\n",
            "Requirement already satisfied: filelock in /usr/local/lib/python3.11/dist-packages (from torch) (3.18.0)\n",
            "Requirement already satisfied: typing-extensions>=4.10.0 in /usr/local/lib/python3.11/dist-packages (from torch) (4.13.2)\n",
            "Requirement already satisfied: networkx in /usr/local/lib/python3.11/dist-packages (from torch) (3.4.2)\n",
            "Requirement already satisfied: jinja2 in /usr/local/lib/python3.11/dist-packages (from torch) (3.1.6)\n",
            "Requirement already satisfied: fsspec in /usr/local/lib/python3.11/dist-packages (from torch) (2025.3.2)\n",
            "Requirement already satisfied: nvidia-cuda-nvrtc-cu12==12.4.127 in /usr/local/lib/python3.11/dist-packages (from torch) (12.4.127)\n",
            "Requirement already satisfied: nvidia-cuda-runtime-cu12==12.4.127 in /usr/local/lib/python3.11/dist-packages (from torch) (12.4.127)\n",
            "Requirement already satisfied: nvidia-cuda-cupti-cu12==12.4.127 in /usr/local/lib/python3.11/dist-packages (from torch) (12.4.127)\n",
            "Requirement already satisfied: nvidia-cudnn-cu12==9.1.0.70 in /usr/local/lib/python3.11/dist-packages (from torch) (9.1.0.70)\n",
            "Requirement already satisfied: nvidia-cublas-cu12==12.4.5.8 in /usr/local/lib/python3.11/dist-packages (from torch) (12.4.5.8)\n",
            "Requirement already satisfied: nvidia-cufft-cu12==11.2.1.3 in /usr/local/lib/python3.11/dist-packages (from torch) (11.2.1.3)\n",
            "Requirement already satisfied: nvidia-curand-cu12==10.3.5.147 in /usr/local/lib/python3.11/dist-packages (from torch) (10.3.5.147)\n",
            "Requirement already satisfied: nvidia-cusolver-cu12==11.6.1.9 in /usr/local/lib/python3.11/dist-packages (from torch) (11.6.1.9)\n",
            "Requirement already satisfied: nvidia-cusparse-cu12==12.3.1.170 in /usr/local/lib/python3.11/dist-packages (from torch) (12.3.1.170)\n",
            "Requirement already satisfied: nvidia-cusparselt-cu12==0.6.2 in /usr/local/lib/python3.11/dist-packages (from torch) (0.6.2)\n",
            "Requirement already satisfied: nvidia-nccl-cu12==2.21.5 in /usr/local/lib/python3.11/dist-packages (from torch) (2.21.5)\n",
            "Requirement already satisfied: nvidia-nvtx-cu12==12.4.127 in /usr/local/lib/python3.11/dist-packages (from torch) (12.4.127)\n",
            "Requirement already satisfied: nvidia-nvjitlink-cu12==12.4.127 in /usr/local/lib/python3.11/dist-packages (from torch) (12.4.127)\n",
            "Requirement already satisfied: triton==3.2.0 in /usr/local/lib/python3.11/dist-packages (from torch) (3.2.0)\n",
            "Requirement already satisfied: sympy==1.13.1 in /usr/local/lib/python3.11/dist-packages (from torch) (1.13.1)\n",
            "Requirement already satisfied: mpmath<1.4,>=1.1.0 in /usr/local/lib/python3.11/dist-packages (from sympy==1.13.1->torch) (1.3.0)\n",
            "Requirement already satisfied: numpy in /usr/local/lib/python3.11/dist-packages (from torchvision) (2.0.2)\n",
            "Requirement already satisfied: pillow!=8.3.*,>=5.3.0 in /usr/local/lib/python3.11/dist-packages (from torchvision) (11.1.0)\n",
            "Requirement already satisfied: MarkupSafe>=2.0 in /usr/local/lib/python3.11/dist-packages (from jinja2->torch) (3.0.2)\n",
            "2.6.0+cu124\n",
            "True\n"
          ]
        }
      ],
      "source": [
        "# 11. How do you install PyTorch?\n",
        "\n",
        "# Answer:\n",
        "# You can install PyTorch using pip or conda, depending on your preference and environment.\n",
        "# The installation command may vary based on your operating system, Python version, and whether you want to use GPU support.\n",
        "# Here are the general steps to install PyTorch:\n",
        "# 1. Visit the official PyTorch website: https://pytorch.org/get-started/locally/\n",
        "# 2. Select your preferences:\n",
        "# - Choose your operating system (Windows, macOS, Linux).\n",
        "# - Select your package manager (pip or conda).\n",
        "# - Choose the language (Python).\n",
        "# - Select the version of CUDA if you want GPU support (or choose \"None\" for CPU only).\n",
        "# 3. Based on your selections, the website will provide you with the appropriate installation command.\n",
        "# 4. Open your terminal or command prompt and run the provided command.\n",
        "# For example, if you want to install PyTorch with CPU support using pip, you might run:\n",
        "# ```bash\n",
        "!pip install torch torchvision torchaudio\n",
        "# ```\n",
        "# If you want to install PyTorch with GPU support (CUDA), the command might look like this:\n",
        "# ```bash\n",
        "!pip install torch torchvision torchaudio --extra-index-url https://download.pytorch.org/whl/cu113\n",
        "# ```\n",
        "# (Note: The CUDA version may vary based on your system and the latest available version.)\n",
        "# 5. Verify the installation:\n",
        "# After installation, you can verify that PyTorch is installed correctly by running the following command in Python:\n",
        "# ```python\n",
        "import torch\n",
        "print(torch.__version__)\n",
        "print(torch.cuda.is_available())  # Check if GPU is available\n",
        "# ```\n",
        "# This should print the installed PyTorch version and whether CUDA is available for GPU support.\n",
        "# If you encounter any issues during installation, refer to the official PyTorch documentation for troubleshooting and additional instructions.\n",
        "# The documentation provides detailed information on installation options, compatibility, and system requirements.\n",
        "# PyTorch is a powerful deep learning framework that is widely used for research and production applications.\n",
        "# It offers a flexible and intuitive interface for building and training neural networks, making it a popular choice among researchers and developers.\n",
        "# With its dynamic computation graph and extensive community support, PyTorch has become one of the leading frameworks in the deep learning ecosystem.\n",
        "# Whether you are working on research projects, developing machine learning applications, or deploying models in production,\n",
        "# PyTorch provides the tools and resources you need to succeed.\n",
        "# By following the installation steps outlined above, you can quickly set up PyTorch and start building your own deep learning models.\n",
        "# Whether you are a beginner or an experienced practitioner, PyTorch offers a user-friendly environment for exploring the world of deep learning.\n",
        "# With its rich ecosystem of libraries and tools, PyTorch empowers you to tackle a wide range of machine learning tasks,\n",
        "# from computer vision to natural language processing and beyond."
      ]
    },
    {
      "cell_type": "code",
      "execution_count": null,
      "id": "cace12b7",
      "metadata": {
        "colab": {
          "base_uri": "https://localhost:8080/",
          "height": 696
        },
        "id": "cace12b7",
        "outputId": "c2cc283c-200a-43c5-ced5-fa51b2782c3c"
      },
      "outputs": [
        {
          "output_type": "stream",
          "name": "stdout",
          "text": [
            "Epoch [10/100], Loss: 0.3519\n",
            "Epoch [20/100], Loss: 0.3638\n",
            "Epoch [30/100], Loss: 0.3848\n",
            "Epoch [40/100], Loss: 0.3470\n",
            "Epoch [50/100], Loss: 0.3478\n",
            "Epoch [60/100], Loss: 0.3766\n",
            "Epoch [70/100], Loss: 0.3450\n",
            "Epoch [80/100], Loss: 0.3450\n",
            "Epoch [90/100], Loss: 0.3446\n",
            "Epoch [100/100], Loss: 0.3136\n"
          ]
        },
        {
          "output_type": "display_data",
          "data": {
            "text/plain": [
              "<Figure size 1000x500 with 1 Axes>"
            ],
            "image/png": "[encoded data removed]"
          },
          "metadata": {}
        },
        {
          "output_type": "stream",
          "name": "stdout",
          "text": [
            "Test Accuracy: 0.8250\n"
          ]
        }
      ],
      "source": [
        "# 12. What is the basic structure of a PyTorch neural network?\n",
        "\n",
        "# Answer:\n",
        "# The basic structure of a PyTorch neural network consists of several key components:\n",
        "# 1. Model Class: In PyTorch, you typically define a custom neural network model by subclassing the `torch.nn.Module` class.\n",
        "# This allows you to create a custom architecture by defining the layers and their connections.\n",
        "# 2. Layers: Neural networks are composed of layers, which are instances of `torch.nn.Module` subclasses.\n",
        "# Common layers include fully connected (linear) layers, convolutional layers, recurrent layers, and activation functions.\n",
        "# You can stack multiple layers to create a deep network.\n",
        "# 3. Forward Method: The `forward` method defines the forward pass of the network, specifying how the input data flows through the layers.\n",
        "# This method takes input data as an argument and returns the output of the network.\n",
        "# 4. Loss Function: The loss function measures the difference between the predicted output and the true target values.\n",
        "# Common loss functions include mean squared error (MSE) for regression tasks and cross-entropy loss for classification tasks.\n",
        "# 5. Optimizer: The optimizer updates the model's parameters based on the gradients computed during backpropagation.\n",
        "# Common optimizers include stochastic gradient descent (SGD), Adam, and RMSprop.\n",
        "# 6. Training Loop: The training loop iterates over the dataset, performing forward passes, computing the loss,\n",
        "# calculating gradients, and updating the model parameters using the optimizer.\n",
        "# 7. Evaluation: After training, you can evaluate the model's performance on a validation or test dataset to assess its accuracy and generalization.\n",
        "\n",
        "# Here's a simple example of a basic PyTorch neural network structure for a feedforward neural network:\n",
        "# ```python\n",
        "import torch\n",
        "import torch.nn as nn\n",
        "import torch.optim as optim\n",
        "import numpy as np\n",
        "from sklearn.model_selection import train_test_split\n",
        "from sklearn.datasets import make_classification\n",
        "from sklearn.preprocessing import StandardScaler\n",
        "from sklearn.metrics import accuracy_score\n",
        "import matplotlib.pyplot as plt\n",
        "import seaborn as sns\n",
        "sns.set(style='whitegrid')\n",
        "import warnings\n",
        "warnings.filterwarnings('ignore')\n",
        "# Generate synthetic data for binary classification\n",
        "X, y = make_classification(n_samples=1000, n_features=20, n_classes=2, random_state=42)\n",
        "# Split the data into training and testing sets\n",
        "X_train, X_test, y_train, y_test = train_test_split(X, y, test_size=0.2, random_state=42)\n",
        "# Standardize the features\n",
        "scaler = StandardScaler()\n",
        "X_train = scaler.fit_transform(X_train)\n",
        "X_test = scaler.transform(X_test)\n",
        "# Convert the data to PyTorch tensors\n",
        "X_train_tensor = torch.FloatTensor(X_train)\n",
        "y_train_tensor = torch.LongTensor(y_train)\n",
        "X_test_tensor = torch.FloatTensor(X_test)\n",
        "y_test_tensor = torch.LongTensor(y_test)\n",
        "# Define the neural network model\n",
        "class SimpleNN(nn.Module):\n",
        "    def __init__(self, input_size):\n",
        "        super(SimpleNN, self).__init__()\n",
        "        self.fc1 = nn.Linear(input_size, 64)  # First fully connected layer\n",
        "        self.fc2 = nn.Linear(64, 32)          # Second fully connected layer\n",
        "        self.fc3 = nn.Linear(32, 2)           # Output layer (2 classes)\n",
        "        self.relu = nn.ReLU()                 # Activation function\n",
        "        self.softmax = nn.Softmax(dim=1)      # Softmax activation for output layer\n",
        "    def forward(self, x):\n",
        "        x = self.fc1(x)                       # Pass input through first layer\n",
        "        x = self.relu(x)                     # Apply ReLU activation\n",
        "        x = self.fc2(x)                       # Pass through second layer\n",
        "        x = self.relu(x)                     # Apply ReLU activation\n",
        "        x = self.fc3(x)                       # Pass through output layer\n",
        "        x = self.softmax(x)                   # Apply softmax activation\n",
        "        return x\n",
        "# Create an instance of the model\n",
        "input_size = X_train.shape[1]  # Number of features\n",
        "model = SimpleNN(input_size)\n",
        "# Define the loss function and optimizer\n",
        "loss_function = nn.CrossEntropyLoss()  # Cross-entropy loss for classification\n",
        "optimizer = optim.Adam(model.parameters(), lr=0.001)  # Adam optimizer\n",
        "# Training loop\n",
        "num_epochs = 100\n",
        "batch_size = 32\n",
        "train_losses = []\n",
        "for epoch in range(num_epochs):\n",
        "    model.train()  # Set the model to training mode\n",
        "    permutation = torch.randperm(X_train_tensor.size(0))  # Shuffle the training data\n",
        "    for i in range(0, X_train_tensor.size(0), batch_size):\n",
        "        indices = permutation[i:i + batch_size]  # Get the batch indices\n",
        "        batch_x, batch_y = X_train_tensor[indices], y_train_tensor[indices]  # Get the batch data\n",
        "        optimizer.zero_grad()  # Zero the gradients\n",
        "        outputs = model(batch_x)  # Forward pass\n",
        "        loss = loss_function(outputs, batch_y)  # Compute the loss\n",
        "        loss.backward()  # Backward pass (compute gradients)\n",
        "        optimizer.step()  # Update the model parameters\n",
        "        train_losses.append(loss.item())  # Store the loss for plotting\n",
        "    # Print the training loss every 10 epochs\n",
        "    if (epoch + 1) % 10 == 0:\n",
        "        print(f'Epoch [{epoch + 1}/{num_epochs}], Loss: {loss.item():.4f}')\n",
        "# Plot the training loss\n",
        "plt.figure(figsize=(10, 5))\n",
        "plt.plot(train_losses, label='Training Loss')\n",
        "plt.xlabel('Iterations')\n",
        "plt.ylabel('Loss')\n",
        "plt.title('Training Loss Over Iterations')\n",
        "plt.legend()\n",
        "plt.show()\n",
        "# Evaluate the model on the test set\n",
        "model.eval()  # Set the model to evaluation mode\n",
        "with torch.no_grad():\n",
        "    test_outputs = model(X_test_tensor)  # Forward pass on test data\n",
        "    _, predicted = torch.max(test_outputs, 1)  # Get the predicted class labels\n",
        "    accuracy = accuracy_score(y_test_tensor.numpy(), predicted.numpy())  # Calculate accuracy\n",
        "    print(f'Test Accuracy: {accuracy:.4f}')\n",
        "# ```\n",
        "# In this example, we create a simple feedforward neural network with two hidden layers using PyTorch.\n",
        "# We define the model architecture by subclassing `torch.nn.Module` and implementing the `forward` method.\n",
        "# The model is trained using the Adam optimizer and cross-entropy loss function.\n",
        "# We also visualize the training loss over iterations and evaluate the model's accuracy on a test dataset.\n",
        "# This structure can be adapted and expanded for more complex architectures and tasks, such as convolutional neural networks (CNNs) or recurrent neural networks (RNNs).\n",
        "# PyTorch provides a flexible and intuitive framework for building and training neural networks, making it a popular choice among researchers and developers.\n",
        "# With its dynamic computation graph and extensive community support, PyTorch enables users to experiment with various architectures and techniques easily.\n",
        "# Whether you are working on computer vision, natural language processing, or other machine learning tasks,\n",
        "# PyTorch provides the tools and resources you need to succeed.\n",
        "# By following the basic structure outlined above, you can create and train your own neural networks using PyTorch.\n",
        "# This structure serves as a foundation for building more complex models and experimenting with different architectures and techniques.\n",
        "# With its rich ecosystem of libraries and tools, PyTorch empowers you to tackle a wide range of machine learning tasks,\n",
        "# from research to production.\n",
        "# Whether you are a beginner or an experienced practitioner, PyTorch offers a user-friendly environment for exploring the world of deep learning.\n",
        "# With its flexibility and ease of use, PyTorch has become one of the leading frameworks in the deep learning ecosystem.\n",
        "# By leveraging the power of PyTorch, you can unlock new possibilities in machine learning and deep learning,\n",
        "# enabling you to tackle complex problems and drive innovation in your projects.\n",
        "# Whether you are building cutting-edge models, conducting research, or deploying applications in production,\n",
        "# PyTorch provides the tools and resources you need to succeed.\n",
        "# With its dynamic computation graph and extensive community support, PyTorch enables users to experiment with various architectures and techniques easily.\n",
        "# Whether you are working on computer vision, natural language processing, or other machine learning tasks,\n",
        "# PyTorch provides the tools and resources you need to succeed.\n",
        "# By following the basic structure outlined above, you can create and train your own neural networks using PyTorch.\n",
        "# This structure serves as a foundation for building more complex models and experimenting with different architectures and techniques.\n",
        "# With its rich ecosystem of libraries and tools, PyTorch empowers you to tackle a wide range of machine learning tasks,\n",
        "# from research to production.\n",
        "# Whether you are a beginner or an experienced practitioner, PyTorch offers a user-friendly environment for exploring the world of deep learning.\n",
        "# With its flexibility and ease of use, PyTorch has become one of the leading frameworks in the deep learning ecosystem.\n",
        "# By leveraging the power of PyTorch, you can unlock new possibilities in machine learning and deep learning,\n",
        "# enabling you to tackle complex problems and drive innovation in your projects.\n",
        "# Whether you are building cutting-edge models, conducting research, or deploying applications in production,\n",
        "# PyTorch provides the tools and resources you need to succeed.\n",
        "# With its dynamic computation graph and extensive community support, PyTorch enables users to experiment with various architectures and techniques easily.\n",
        "# Whether you are working on computer vision, natural language processing, or other machine learning tasks,\n",
        "# PyTorch provides the tools and resources you need to succeed.\n",
        "# By following the basic structure outlined above, you can create and train your own neural networks using PyTorch.\n",
        "# This structure serves as a foundation for building more complex models and experimenting with different architectures and techniques.\n",
        "# With its rich ecosystem of libraries and tools, PyTorch empowers you to tackle a wide range of machine learning tasks,\n",
        "# from research to production.\n",
        "# Whether you are a beginner or an experienced practitioner, PyTorch offers a user-friendly environment for exploring the world of deep learning.\n",
        "# With its flexibility and ease of use, PyTorch has become one of the leading frameworks in the deep learning ecosystem."
      ]
    },
    {
      "cell_type": "code",
      "execution_count": null,
      "id": "141a9e71",
      "metadata": {
        "id": "141a9e71"
      },
      "outputs": [],
      "source": [
        "# 13. What is the significance of tensors in PyTorch?\n",
        "\n",
        "# Answer:\n",
        "# Tensors are the fundamental data structure in PyTorch, similar to arrays or matrices in NumPy.\n",
        "# They are multi-dimensional arrays that can represent data of various types, including scalars, vectors, matrices, and higher-dimensional data.\n",
        "# The significance of tensors in PyTorch includes:\n",
        "# 1. Data Representation: Tensors provide a flexible and efficient way to represent data in PyTorch.\n",
        "# They can hold data of different types, including integers, floats, and booleans.\n",
        "# Tensors can also have varying dimensions, allowing for the representation of complex data structures such as images, text, and time series.\n",
        "# 2. GPU Acceleration: PyTorch tensors can be easily moved between CPU and GPU memory, enabling efficient computation on GPUs.\n",
        "# This allows for faster training and inference of deep learning models, especially for large datasets and complex architectures.\n",
        "# PyTorch automatically handles the transfer of tensors between CPU and GPU, making it easy to leverage hardware acceleration.\n",
        "# 3. Automatic Differentiation: Tensors in PyTorch support automatic differentiation, which is essential for training neural networks.\n",
        "# When you perform operations on tensors, PyTorch keeps track of the computation graph and can compute gradients automatically.\n",
        "# This feature is crucial for implementing backpropagation and optimizing model parameters during training.\n",
        "# 4. Mathematical Operations: PyTorch provides a wide range of mathematical operations that can be performed on tensors,\n",
        "# including element-wise operations, matrix multiplication, and reductions (e.g., sum, mean).\n",
        "# These operations are optimized for performance and can be executed on both CPU and GPU.\n",
        "# 5. Broadcasting: Tensors in PyTorch support broadcasting, which allows for automatic expansion of dimensions during operations.\n",
        "# This feature simplifies the implementation of mathematical operations on tensors of different shapes and sizes.\n",
        "# 6. Interoperability: PyTorch tensors can be easily converted to and from NumPy arrays, allowing for seamless integration with the NumPy ecosystem.\n",
        "# This interoperability is beneficial for data preprocessing, visualization, and using existing NumPy libraries.\n",
        "# 7. Flexibility: Tensors provide a flexible framework for defining custom data structures and operations.\n",
        "# PyTorch allows users to create custom tensor operations and extend the functionality of the library.\n",
        "# This flexibility is particularly useful for researchers and developers working on novel algorithms and architectures.\n",
        "# 8. Support for Distributed Computing: PyTorch tensors can be used in distributed computing environments,\n",
        "# enabling parallel processing and training across multiple devices or nodes.\n",
        "# This is essential for scaling up deep learning models and handling large datasets.\n",
        "# 9. Rich Ecosystem: PyTorch has a rich ecosystem of libraries and tools built around tensors,\n",
        "# including libraries for computer vision (e.g., torchvision), natural language processing (e.g., torchtext),\n",
        "# and reinforcement learning (e.g., torchrl).\n",
        "# These libraries provide pre-built models, datasets, and utilities that leverage the power of tensors.\n",
        "# 10. Community Support: PyTorch has a large and active community that contributes to the development of libraries, tutorials, and resources.\n",
        "# This community support enhances the usability and accessibility of tensors in PyTorch, making it easier for users to learn and experiment with deep learning.\n",
        "# Overall, tensors are a fundamental building block of PyTorch and play a crucial role in enabling efficient computation,\n",
        "# automatic differentiation, and flexible data representation.\n",
        "# They are essential for implementing deep learning models and performing various mathematical operations,\n",
        "# making PyTorch a powerful and versatile framework for machine learning and deep learning applications.\n",
        "# By leveraging the capabilities of tensors, users can build and train complex neural networks,\n",
        "# experiment with different architectures, and tackle a wide range of machine learning tasks.\n",
        "# Whether you are working on computer vision, natural language processing, or other domains,\n",
        "# PyTorch tensors provide the tools and resources you need to succeed.\n",
        "# With their flexibility, efficiency, and support for GPU acceleration,\n",
        "# tensors enable users to unlock new possibilities in deep learning and drive innovation in their projects.\n",
        "# Whether you are a beginner or an experienced practitioner, PyTorch tensors offer a user-friendly environment for exploring the world of deep learning.\n",
        "# With their rich ecosystem of libraries and tools, PyTorch empowers you to tackle a wide range of machine learning tasks,\n",
        "# from research to production."
      ]
    },
    {
      "cell_type": "code",
      "execution_count": null,
      "id": "e82ca5ba",
      "metadata": {
        "colab": {
          "base_uri": "https://localhost:8080/"
        },
        "id": "e82ca5ba",
        "outputId": "c89bf3b2-9401-48ca-d857-0831156d9111"
      },
      "outputs": [
        {
          "output_type": "stream",
          "name": "stdout",
          "text": [
            "cpu\n",
            "cuda:0\n"
          ]
        }
      ],
      "source": [
        "# 14. What is the difference between torch.Tensor and torch.cuda.Tensor in PyTorch?\n",
        "\n",
        "# Answer:\n",
        "# 1. torch.Tensor:\n",
        "# - `torch.Tensor` is the default tensor type in PyTorch.\n",
        "# - It is created on the CPU by default and performs computations on the CPU.\n",
        "# - You can create a `torch.Tensor` using functions like `torch.tensor()`, `torch.zeros()`, `torch.ones()`, etc.\n",
        "# - Example:\n",
        "# ```python\n",
        "# import torch\n",
        "tensor_cpu = torch.tensor([1, 2, 3])\n",
        "print(tensor_cpu.device)  # Output: cpu\n",
        "# ```\n",
        "\n",
        "# 2. torch.cuda.Tensor:\n",
        "# - `torch.cuda.Tensor` is a tensor that resides on the GPU and performs computations on the GPU.\n",
        "# - It is created by explicitly moving a tensor to the GPU using `.to('cuda')` or `.cuda()` methods.\n",
        "# - Example:\n",
        "# ```python\n",
        "tensor_gpu = tensor_cpu.to('cuda')  # Move tensor to GPU\n",
        "print(tensor_gpu.device)  # Output: cuda:0 (or the GPU device index)\n",
        "# ```\n",
        "\n",
        "# Key Differences:\n",
        "# - `torch.Tensor` operates on the CPU, while `torch.cuda.Tensor` operates on the GPU.\n",
        "# - GPU tensors (`torch.cuda.Tensor`) enable faster computations for large-scale data and deep learning tasks by leveraging GPU acceleration.\n",
        "# - Operations between tensors must be on the same device (CPU or GPU). Mixing CPU and GPU tensors will result in an error.\n",
        "# - Example of an error:\n",
        "# # ```python\n",
        "# tensor_cpu + tensor_gpu  # This will raise a RuntimeError\n",
        "# # ```\n",
        "\n",
        "# To summarize:\n",
        "# - Use `torch.Tensor` for CPU-based computations.\n",
        "# - Use `torch.cuda.Tensor` for GPU-based computations to take advantage of hardware acceleration."
      ]
    },
    {
      "cell_type": "code",
      "execution_count": null,
      "id": "4188694f",
      "metadata": {
        "id": "4188694f"
      },
      "outputs": [],
      "source": [
        "# 15. What is the purpose of the torch.optim module in PyTorch?\n",
        "\n",
        "# Answer:\n",
        "import torch\n",
        "\n",
        "# The purpose of torch.optim module:\n",
        "# 1. Gradient-Based Optimization:\n",
        "#    - The module provides implementations of popular gradient-based optimization algorithms, such as SGD, Adam, RMSprop, etc.\n",
        "#    - These algorithms use gradients computed during backpropagation to update model parameters.\n",
        "\n",
        "# 2. Parameter Updates:\n",
        "#    - The optimizers handle the logic for updating model parameters based on gradients and learning rates.\n",
        "#    - This simplifies the training loop, as you don't need to manually update parameters.\n",
        "\n",
        "# 3. Learning Rate Scheduling:\n",
        "#    - The module supports learning rate schedulers, which adjust the learning rate during training.\n",
        "#    - This helps improve convergence and performance.\n",
        "\n",
        "# 4. Flexibility:\n",
        "#    - The module allows customization of optimization settings, such as per-parameter learning rates and weight decay.\n",
        "\n",
        "# Example of using torch.optim:\n",
        "import torch.nn as nn\n",
        "import torch.optim as optim\n",
        "\n",
        "# Define a simple model\n",
        "model = nn.Linear(10, 1)\n",
        "\n",
        "# Define a loss function\n",
        "criterion = nn.MSELoss()\n",
        "\n",
        "# Define an optimizer\n",
        "optimizer = optim.SGD(model.parameters(), lr=0.01)\n",
        "\n",
        "# Dummy data\n",
        "inputs = torch.randn(5, 10)\n",
        "targets = torch.randn(5, 1)\n",
        "\n",
        "# Training step\n",
        "optimizer.zero_grad()  # Clear gradients\n",
        "outputs = model(inputs)  # Forward pass\n",
        "loss = criterion(outputs, targets)  # Compute loss\n",
        "loss.backward()  # Backward pass (compute gradients)\n",
        "optimizer.step()  # Update parameters"
      ]
    },
    {
      "cell_type": "code",
      "execution_count": null,
      "id": "6e64602f",
      "metadata": {
        "colab": {
          "base_uri": "https://localhost:8080/"
        },
        "id": "6e64602f",
        "outputId": "184f947a-c35b-4772-b23c-9e42628989d3"
      },
      "outputs": [
        {
          "output_type": "stream",
          "name": "stdout",
          "text": [
            "Sigmoid Output: tensor([0.2689, 0.5000, 0.7311])\n",
            "ReLU Output: tensor([0., 0., 1.])\n",
            "Tanh Output: tensor([-0.7616,  0.0000,  0.7616])\n",
            "Softmax Output: tensor([0.6590, 0.2424, 0.0986])\n",
            "Leaky ReLU Output: tensor([-0.0100,  0.0000,  1.0000])\n"
          ]
        }
      ],
      "source": [
        "\n",
        "# 16. What are some common activation functions used in neural networks?\n",
        "\n",
        "# Answer:\n",
        "# Some common activation functions used in neural networks include:\n",
        "\n",
        "# # 1. Sigmoid:\n",
        "# # The sigmoid function maps input values to a range between 0 and 1.\n",
        "# # It is often used in the output layer for binary classification problems.\n",
        "import torch.nn.functional as F\n",
        "\n",
        "x = torch.tensor([-1.0, 0.0, 1.0])\n",
        "sigmoid_output = torch.sigmoid(x)\n",
        "print(\"Sigmoid Output:\", sigmoid_output)\n",
        "\n",
        "# 2. ReLU (Rectified Linear Unit):\n",
        "# ReLU replaces negative values with 0 and keeps positive values unchanged.\n",
        "# It is widely used in hidden layers of neural networks.\n",
        "relu_output = F.relu(x)\n",
        "print(\"ReLU Output:\", relu_output)\n",
        "\n",
        "# 3. Tanh (Hyperbolic Tangent):\n",
        "# Tanh maps input values to a range between -1 and 1.\n",
        "# It is often used in hidden layers when the data is centered around zero.\n",
        "tanh_output = torch.tanh(x)\n",
        "print(\"Tanh Output:\", tanh_output)\n",
        "\n",
        "# 4. Softmax:\n",
        "# Softmax is used in the output layer for multi-class classification problems.\n",
        "# It converts logits into probabilities that sum to 1.\n",
        "logits = torch.tensor([2.0, 1.0, 0.1])\n",
        "softmax_output = F.softmax(logits, dim=0)\n",
        "print(\"Softmax Output:\", softmax_output)\n",
        "\n",
        "# 5. Leaky ReLU:\n",
        "# Leaky ReLU allows a small gradient for negative values instead of setting them to 0.\n",
        "leaky_relu_output = F.leaky_relu(x, negative_slope=0.01)\n",
        "print(\"Leaky ReLU Output:\", leaky_relu_output)"
      ]
    },
    {
      "cell_type": "code",
      "execution_count": null,
      "id": "1102ade5",
      "metadata": {
        "colab": {
          "base_uri": "https://localhost:8080/"
        },
        "id": "1102ade5",
        "outputId": "62240a64-b88b-4f84-c5b4-9a857999ac25"
      },
      "outputs": [
        {
          "output_type": "stream",
          "name": "stdout",
          "text": [
            "CustomModel(\n",
            "  (fc1): Linear(in_features=10, out_features=20, bias=True)\n",
            "  (relu): ReLU()\n",
            "  (fc2): Linear(in_features=20, out_features=1, bias=True)\n",
            ")\n",
            "Sequential(\n",
            "  (0): Linear(in_features=10, out_features=20, bias=True)\n",
            "  (1): ReLU()\n",
            "  (2): Linear(in_features=20, out_features=1, bias=True)\n",
            ")\n"
          ]
        }
      ],
      "source": [
        "# 17. What is the difference between torch.nn.Module and torch.nn.Sequential in PyTorch?\n",
        "\n",
        "# Answer:\n",
        "# torch.nn.Module:\n",
        "# - `torch.nn.Module` is the base class for all neural network models in PyTorch.\n",
        "# - It allows you to define custom models by implementing the `__init__` and `forward` methods.\n",
        "# - You have full control over the architecture and forward pass logic.\n",
        "\n",
        "import torch.nn as nn\n",
        "\n",
        "# Example using torch.nn.Module\n",
        "class CustomModel(nn.Module):\n",
        "    def __init__(self):\n",
        "        super(CustomModel, self).__init__()\n",
        "        self.fc1 = nn.Linear(10, 20)\n",
        "        self.relu = nn.ReLU()\n",
        "        self.fc2 = nn.Linear(20, 1)\n",
        "\n",
        "    def forward(self, x):\n",
        "        x = self.fc1(x)\n",
        "        x = self.relu(x)\n",
        "        x = self.fc2(x)\n",
        "        return x\n",
        "\n",
        "custom_model = CustomModel()\n",
        "print(custom_model)\n",
        "\n",
        "# torch.nn.Sequential:\n",
        "# - `torch.nn.Sequential` is a simpler way to define models by stacking layers in order.\n",
        "# - It is useful for straightforward architectures where the forward pass is just a sequence of layers.\n",
        "\n",
        "# Example using torch.nn.Sequential\n",
        "sequential_model = nn.Sequential(\n",
        "    nn.Linear(10, 20),\n",
        "    nn.ReLU(),\n",
        "    nn.Linear(20, 1)\n",
        ")\n",
        "print(sequential_model)\n",
        "\n",
        "# Key Differences:\n",
        "# 1. Flexibility:\n",
        "#    - `torch.nn.Module` allows for more flexibility in defining complex architectures and custom forward passes.\n",
        "#    - `torch.nn.Sequential` is limited to sequentially stacking layers.\n",
        "\n",
        "# 2. Use Case:\n",
        "#    - Use `torch.nn.Module` for custom models with non-linear or branching architectures.\n",
        "#    - Use `torch.nn.Sequential` for simple, linear architectures."
      ]
    },
    {
      "cell_type": "code",
      "execution_count": null,
      "id": "d8173fcc",
      "metadata": {
        "id": "d8173fcc"
      },
      "outputs": [],
      "source": [
        "# 18. How can you monitor training progress in TensorFlow 2.0?\n",
        "\n",
        "# Answer:\n",
        "import tensorflow as tf\n",
        "from tensorflow.keras.callbacks import TensorBoard, ModelCheckpoint\n",
        "import datetime\n",
        "\n",
        "# Generate some random data for demonstration\n",
        "x_train = tf.random.normal((1000, 20))\n",
        "y_train = tf.random.uniform((1000,), maxval=2, dtype=tf.int32)\n",
        "\n",
        "# Create a simple model\n",
        "model = tf.keras.Sequential([\n",
        "    tf.keras.layers.Dense(64, activation='relu', input_shape=(20,)),\n",
        "    tf.keras.layers.Dense(64, activation='relu'),\n",
        "    tf.keras.layers.Dense(1, activation='sigmoid')\n",
        "])\n",
        "\n",
        "# Compile the model\n",
        "model.compile(optimizer='adam',\n",
        "              loss='binary_crossentropy',\n",
        "              metrics=['accuracy'])\n",
        "\n",
        "# Set up TensorBoard callback\n",
        "log_dir = \"logs/fit/\" + datetime.datetime.now().strftime(\"%Y%m%d-%H%M%S\")\n",
        "tensorboard_callback = TensorBoard(log_dir=log_dir, histogram_freq=1)\n",
        "\n",
        "# Set up ModelCheckpoint callback\n",
        "checkpoint_callback = ModelCheckpoint(filepath='model_checkpoint.h5', save_best_only=True)\n",
        "\n",
        "# Train the model with callbacks\n",
        "model.fit(x_train, y_train,\n",
        "          epochs=10,\n",
        "          batch_size=32,\n",
        "          validation_split=0.2,\n",
        "          callbacks=[tensorboard_callback, checkpoint_callback])\n",
        "\n",
        "# # To view TensorBoard, run the following command in your terminal:\n",
        "# # tensorboard --logdir=logs/fit"
      ]
    },
    {
      "cell_type": "code",
      "execution_count": null,
      "id": "609698eb",
      "metadata": {
        "colab": {
          "base_uri": "https://localhost:8080/"
        },
        "id": "609698eb",
        "outputId": "3a265cc7-9eec-461d-fa05-50d37ac365cf"
      },
      "outputs": [
        {
          "output_type": "stream",
          "name": "stdout",
          "text": [
            "Downloading data from https://storage.googleapis.com/tensorflow/tf-keras-datasets/mnist.npz\n",
            "\u001b[1m11490434/11490434\u001b[0m \u001b[32m━━━━━━━━━━━━━━━━━━━━\u001b[0m\u001b[37m\u001b[0m \u001b[1m2s\u001b[0m 0us/step\n"
          ]
        }
      ],
      "source": [
        "# 19. How does the Keras API fit into TensorFlow 2.0?\n",
        "\n",
        "# Answer:\n",
        "from tensorflow.keras.models import Sequential, Model\n",
        "from tensorflow.keras.layers import Dense, Input\n",
        "from tensorflow.keras.datasets import mnist\n",
        "from tensorflow.keras.utils import to_categorical\n",
        "from tensorflow.keras.callbacks import EarlyStopping\n",
        "\n",
        "# The Keras API in TensorFlow 2.0 provides:\n",
        "# 1. Simplified Model Building:\n",
        "#    - Keras offers two main ways to build models: Sequential API and Functional API.\n",
        "#    - The Sequential API is used for simple, linear stacks of layers.\n",
        "#    - The Functional API is used for more complex architectures with multiple inputs/outputs.\n",
        "\n",
        "\n",
        "# Example of Sequential API\n",
        "sequential_model = Sequential([\n",
        "    Dense(64, activation='relu', input_shape=(20,)),\n",
        "    Dense(64, activation='relu'),\n",
        "    Dense(1, activation='sigmoid')\n",
        "])\n",
        "\n",
        "# Example of Functional API\n",
        "inputs = Input(shape=(20,))\n",
        "x = Dense(64, activation='relu')(inputs)\n",
        "x = Dense(64, activation='relu')(x)\n",
        "outputs = Dense(1, activation='sigmoid')(x)\n",
        "functional_model = Model(inputs=inputs, outputs=outputs)\n",
        "\n",
        "# 2. Integrated Training and Evaluation:\n",
        "#    - Keras provides methods like `fit`, `evaluate`, and `predict` for training, evaluating, and making predictions.\n",
        "\n",
        "sequential_model.compile(optimizer='adam', loss='binary_crossentropy', metrics=['accuracy'])\n",
        "# Train the model\n",
        "# sequential_model.fit(x_train, y_train, epochs=10, batch_size=32, validation_split=0.2)\n",
        "\n",
        "# 3. Preprocessing and Utilities:\n",
        "#    - Keras includes utilities for data preprocessing, augmentation, and loading datasets.\n",
        "\n",
        "\n",
        "# Load and preprocess data\n",
        "(x_train, y_train), (x_test, y_test) = mnist.load_data()\n",
        "x_train = x_train.reshape(-1, 28 * 28) / 255.0\n",
        "y_train = to_categorical(y_train)\n",
        "\n",
        "# 4. Callbacks:\n",
        "#    - Keras supports callbacks like TensorBoard, ModelCheckpoint, and EarlyStopping for monitoring and improving training.\n",
        "\n",
        "\n",
        "early_stopping = EarlyStopping(monitor='val_loss', patience=3)\n",
        "\n",
        "# 5. Interoperability:\n",
        "#    - Keras models are fully integrated with TensorFlow, allowing seamless use of TensorFlow features like `tf.data` and `tf.function`.\n",
        "\n",
        "# 6. Deployment:\n",
        "#    - Keras models can be easily exported and deployed using TensorFlow Serving, TensorFlow Lite, or TensorFlow.js."
      ]
    },
    {
      "cell_type": "code",
      "execution_count": null,
      "id": "5b532dba",
      "metadata": {
        "id": "5b532dba"
      },
      "outputs": [],
      "source": [
        "# 20. What is an example of a deep learning project that can be implemented using TensorFlow 2.0?\n",
        "\n",
        "# Answer:\n",
        "import tensorflow as tf\n",
        "from tensorflow.keras import layers, models\n",
        "from tensorflow.keras.datasets import cifar10\n",
        "from tensorflow.keras.utils import to_categorical\n",
        "\n",
        "# Load and preprocess the CIFAR-10 dataset\n",
        "(x_train, y_train), (x_test, y_test) = cifar10.load_data()\n",
        "x_train, x_test = x_train / 255.0, x_test / 255.0  # Normalize pixel values to [0, 1]\n",
        "y_train, y_test = to_categorical(y_train), to_categorical(y_test)  # One-hot encode labels\n",
        "\n",
        "# Define the CNN model\n",
        "model = models.Sequential([\n",
        "    layers.Conv2D(32, (3, 3), activation='relu', input_shape=(32, 32, 3)),\n",
        "    layers.MaxPooling2D((2, 2)),\n",
        "    layers.Conv2D(64, (3, 3), activation='relu'),\n",
        "    layers.MaxPooling2D((2, 2)),\n",
        "    layers.Conv2D(64, (3, 3), activation='relu'),\n",
        "    layers.Flatten(),\n",
        "    layers.Dense(64, activation='relu'),\n",
        "    layers.Dense(10, activation='softmax')  # 10 classes for CIFAR-10\n",
        "])\n",
        "\n",
        "# Compile the model\n",
        "model.compile(optimizer='adam',\n",
        "              loss='categorical_crossentropy',\n",
        "              metrics=['accuracy'])\n",
        "\n",
        "# Train the model\n",
        "model.fit(x_train, y_train, epochs=10, batch_size=64, validation_split=0.2)\n",
        "\n",
        "# Evaluate the model\n",
        "test_loss, test_accuracy = model.evaluate(x_test, y_test)\n",
        "print(f'Test accuracy: {test_accuracy:.4f}')"
      ]
    },
    {
      "cell_type": "code",
      "execution_count": null,
      "id": "f354edc4",
      "metadata": {
        "id": "f354edc4"
      },
      "outputs": [],
      "source": [
        "# 21.What is the main advantage of using pre-trained models in TensorFlow and PyTorch?\n",
        "\n",
        "# Answer:\n",
        "from tensorflow.keras.applications import VGG16\n",
        "import torch\n",
        "\n",
        "# Example of using a pre-trained model in TensorFlow\n",
        "\n",
        "# Load the VGG16 model pre-trained on ImageNet\n",
        "vgg16_model = VGG16(weights='imagenet')\n",
        "\n",
        "# Display the model architecture\n",
        "vgg16_model.summary()\n",
        "\n",
        "# Example of using a pre-trained model in PyTorch\n",
        "import torchvision.models as models\n",
        "\n",
        "# Load the ResNet18 model pre-trained on ImageNet\n",
        "resnet18_model = models.resnet18(pretrained=True)\n",
        "\n",
        "# Display the model architecture\n",
        "print(resnet18_model)"
      ]
    },
    {
      "cell_type": "markdown",
      "source": [
        "#  Practical\n"
      ],
      "metadata": {
        "id": "e8rZQqnwKGmA"
      },
      "id": "e8rZQqnwKGmA"
    },
    {
      "cell_type": "code",
      "execution_count": null,
      "id": "06620160",
      "metadata": {
        "colab": {
          "base_uri": "https://localhost:8080/"
        },
        "id": "06620160",
        "outputId": "6caed63c-eee7-45d8-e3f0-88556592948b"
      },
      "outputs": [
        {
          "output_type": "stream",
          "name": "stdout",
          "text": [
            "\u001b[31mERROR: Could not find a version that satisfies the requirement tensorflow==2.0 (from versions: 2.12.0rc0, 2.12.0rc1, 2.12.0, 2.12.1, 2.13.0rc0, 2.13.0rc1, 2.13.0rc2, 2.13.0, 2.13.1, 2.14.0rc0, 2.14.0rc1, 2.14.0, 2.14.1, 2.15.0rc0, 2.15.0rc1, 2.15.0, 2.15.0.post1, 2.15.1, 2.16.0rc0, 2.16.1, 2.16.2, 2.17.0rc0, 2.17.0rc1, 2.17.0, 2.17.1, 2.18.0rc0, 2.18.0rc1, 2.18.0rc2, 2.18.0, 2.18.1, 2.19.0rc0, 2.19.0)\u001b[0m\u001b[31m\n",
            "\u001b[0m\u001b[31mERROR: No matching distribution found for tensorflow==2.0\u001b[0m\u001b[31m\n",
            "\u001b[0m"
          ]
        }
      ],
      "source": [
        "# 1. How do you install and verify that TensorFlow 2.0 was installed successfully?\n",
        "\n",
        "!pip install tensorflow==2.0\n"
      ]
    },
    {
      "cell_type": "code",
      "source": [
        "# 2. How can you define a simple function in TensorFlow 2.0 to perform addition?\n",
        "\n",
        "import tensorflow as tf\n",
        "\n",
        "def tensor_addition(x,y):\n",
        "  x=tf.constant(x)\n",
        "  y=tf.constant(y)\n",
        "\n",
        "  return tf.add(x,y)\n",
        "\n",
        "result = tensor_addition(5, 3)\n",
        "print(result.numpy())"
      ],
      "metadata": {
        "colab": {
          "base_uri": "https://localhost:8080/"
        },
        "id": "vUwpf57BKYEh",
        "outputId": "53b0dfee-271f-4201-d8d1-4ab27e43cf04"
      },
      "id": "vUwpf57BKYEh",
      "execution_count": null,
      "outputs": [
        {
          "output_type": "stream",
          "name": "stdout",
          "text": [
            "8\n"
          ]
        }
      ]
    },
    {
      "cell_type": "code",
      "source": [
        "# 3. How can you create a simple neural network in TensorFlow 2.0 with one hidden layer?\n",
        "\n",
        "import tensorflow as tf\n",
        "from tensorflow.keras.models import Sequential\n",
        "from tensorflow.keras.layers import Dense\n",
        "\n",
        "# Define the model\n",
        "model = Sequential(\n",
        "    [\n",
        "        Dense(16, activation=\"relu\", input_shape=(10,)),\n",
        "        Dense(1, activation=\"sigmoid\")\n",
        "\n",
        "    ]\n",
        ")\n",
        "\n",
        "# Compile thr model\n",
        "model.compile(\n",
        "    optimizer = \"adam\",\n",
        "    loss = \"binary_crossentropy\",\n",
        "    metrics = [\"accuracy\"]\n",
        ")\n",
        "\n",
        "# Print model summary\n",
        "model.summary()\n"
      ],
      "metadata": {
        "colab": {
          "base_uri": "https://localhost:8080/",
          "height": 193
        },
        "id": "lktyA8YSKsIq",
        "outputId": "0aad9f59-919d-49b4-bebb-96be1bf33c19"
      },
      "id": "lktyA8YSKsIq",
      "execution_count": null,
      "outputs": [
        {
          "output_type": "display_data",
          "data": {
            "text/plain": [
              "\u001b[1mModel: \"sequential_2\"\u001b[0m\n"
            ],
            "text/html": [
              "<pre style=\"white-space:pre;overflow-x:auto;line-height:normal;font-family:Menlo,'DejaVu Sans Mono',consolas,'Courier New',monospace\"><span style=\"font-weight: bold\">Model: \"sequential_2\"</span>\n",
              "</pre>\n"
            ]
          },
          "metadata": {}
        },
        {
          "output_type": "display_data",
          "data": {
            "text/plain": [
              "┏━━━━━━━━━━━━━━━━━━━━━━━━━━━━━━━━━┳━━━━━━━━━━━━━━━━━━━━━━━━┳━━━━━━━━━━━━━━━┓\n",
              "┃\u001b[1m \u001b[0m\u001b[1mLayer (type)                   \u001b[0m\u001b[1m \u001b[0m┃\u001b[1m \u001b[0m\u001b[1mOutput Shape          \u001b[0m\u001b[1m \u001b[0m┃\u001b[1m \u001b[0m\u001b[1m      Param #\u001b[0m\u001b[1m \u001b[0m┃\n",
              "┡━━━━━━━━━━━━━━━━━━━━━━━━━━━━━━━━━╇━━━━━━━━━━━━━━━━━━━━━━━━╇━━━━━━━━━━━━━━━┩\n",
              "│ dense_4 (\u001b[38;5;33mDense\u001b[0m)                 │ (\u001b[38;5;45mNone\u001b[0m, \u001b[38;5;34m16\u001b[0m)             │           \u001b[38;5;34m176\u001b[0m │\n",
              "├─────────────────────────────────┼────────────────────────┼───────────────┤\n",
              "│ dense_5 (\u001b[38;5;33mDense\u001b[0m)                 │ (\u001b[38;5;45mNone\u001b[0m, \u001b[38;5;34m1\u001b[0m)              │            \u001b[38;5;34m17\u001b[0m │\n",
              "└─────────────────────────────────┴────────────────────────┴───────────────┘\n"
            ],
            "text/html": [
              "<pre style=\"white-space:pre;overflow-x:auto;line-height:normal;font-family:Menlo,'DejaVu Sans Mono',consolas,'Courier New',monospace\">┏━━━━━━━━━━━━━━━━━━━━━━━━━━━━━━━━━┳━━━━━━━━━━━━━━━━━━━━━━━━┳━━━━━━━━━━━━━━━┓\n",
              "┃<span style=\"font-weight: bold\"> Layer (type)                    </span>┃<span style=\"font-weight: bold\"> Output Shape           </span>┃<span style=\"font-weight: bold\">       Param # </span>┃\n",
              "┡━━━━━━━━━━━━━━━━━━━━━━━━━━━━━━━━━╇━━━━━━━━━━━━━━━━━━━━━━━━╇━━━━━━━━━━━━━━━┩\n",
              "│ dense_4 (<span style=\"color: #0087ff; text-decoration-color: #0087ff\">Dense</span>)                 │ (<span style=\"color: #00d7ff; text-decoration-color: #00d7ff\">None</span>, <span style=\"color: #00af00; text-decoration-color: #00af00\">16</span>)             │           <span style=\"color: #00af00; text-decoration-color: #00af00\">176</span> │\n",
              "├─────────────────────────────────┼────────────────────────┼───────────────┤\n",
              "│ dense_5 (<span style=\"color: #0087ff; text-decoration-color: #0087ff\">Dense</span>)                 │ (<span style=\"color: #00d7ff; text-decoration-color: #00d7ff\">None</span>, <span style=\"color: #00af00; text-decoration-color: #00af00\">1</span>)              │            <span style=\"color: #00af00; text-decoration-color: #00af00\">17</span> │\n",
              "└─────────────────────────────────┴────────────────────────┴───────────────┘\n",
              "</pre>\n"
            ]
          },
          "metadata": {}
        },
        {
          "output_type": "display_data",
          "data": {
            "text/plain": [
              "\u001b[1m Total params: \u001b[0m\u001b[38;5;34m193\u001b[0m (772.00 B)\n"
            ],
            "text/html": [
              "<pre style=\"white-space:pre;overflow-x:auto;line-height:normal;font-family:Menlo,'DejaVu Sans Mono',consolas,'Courier New',monospace\"><span style=\"font-weight: bold\"> Total params: </span><span style=\"color: #00af00; text-decoration-color: #00af00\">193</span> (772.00 B)\n",
              "</pre>\n"
            ]
          },
          "metadata": {}
        },
        {
          "output_type": "display_data",
          "data": {
            "text/plain": [
              "\u001b[1m Trainable params: \u001b[0m\u001b[38;5;34m193\u001b[0m (772.00 B)\n"
            ],
            "text/html": [
              "<pre style=\"white-space:pre;overflow-x:auto;line-height:normal;font-family:Menlo,'DejaVu Sans Mono',consolas,'Courier New',monospace\"><span style=\"font-weight: bold\"> Trainable params: </span><span style=\"color: #00af00; text-decoration-color: #00af00\">193</span> (772.00 B)\n",
              "</pre>\n"
            ]
          },
          "metadata": {}
        },
        {
          "output_type": "display_data",
          "data": {
            "text/plain": [
              "\u001b[1m Non-trainable params: \u001b[0m\u001b[38;5;34m0\u001b[0m (0.00 B)\n"
            ],
            "text/html": [
              "<pre style=\"white-space:pre;overflow-x:auto;line-height:normal;font-family:Menlo,'DejaVu Sans Mono',consolas,'Courier New',monospace\"><span style=\"font-weight: bold\"> Non-trainable params: </span><span style=\"color: #00af00; text-decoration-color: #00af00\">0</span> (0.00 B)\n",
              "</pre>\n"
            ]
          },
          "metadata": {}
        }
      ]
    },
    {
      "cell_type": "code",
      "source": [
        "# 4. How can you visualize the training progress using TensorFlow and Matplotlib?\n",
        "\n",
        "import numpy as np\n",
        "import tensorflow as tf\n",
        "from tensorflow.keras.models import Sequential\n",
        "from tensorflow.keras.layers import Dense\n",
        "import matplotlib.pyplot as plt\n",
        "\n",
        "# Step 1 create synthetic data (1000 sample, 10 features)\n",
        "X_train = np.random.rand(1000, 10)\n",
        "y_train = np.random.randint(0, 2, size=(1000, 1))\n",
        "\n",
        "# Step 2: Build the model\n",
        "model = Sequential(\n",
        "    [\n",
        "        Dense(16, activation=\"relu\", input_shape=(10,)),\n",
        "        Dense(1, activation=\"sigmoid\")\n",
        "    ]\n",
        ")\n",
        "\n",
        "# Step 3: Compile the model\n",
        "model.compile(optimizer=\"adam\", loss=\"binary_crossentropy\", metrics=[\"accuracy\"])\n",
        "\n",
        "# Step 4: Train the model\n",
        "history = model.fit(X_train, y_train, epochs=10, batch_size=32, validation_split=0.2)\n",
        "\n",
        "# Step 5: Visualize training history (accuracy and loss)\n",
        "plt.figure(figsize=(20, 8))\n",
        "\n",
        "# Plot Accuracy\n",
        "plt.subplot(1, 2, 1)\n",
        "plt.plot(history.history[\"accuracy\"], label=\"Train Accuracy\")\n",
        "plt.plot(history.history[\"val_accuracy\"], label=\"Validation Accuracy\")\n",
        "plt.title(\"Accuracy over Epochs\")\n",
        "plt.xlabel(\"Epoch\")\n",
        "plt.ylabel(\"Accuracy\")\n",
        "plt.legend()\n",
        "plt.grid(True)\n",
        "\n",
        "# Plot Loss\n",
        "plt.subplot(1, 2, 2)\n",
        "plt.plot(history.history[\"loss\"], label=\"Train Loss\")\n",
        "plt.plot(history.history[\"val_loss\"], label=\"Validation Loss\")\n",
        "plt.title(\"Loss over Epochs\")\n",
        "plt.xlabel(\"Epoch\")\n",
        "plt.ylabel(\"Loss\")\n",
        "plt.legend()\n",
        "plt.grid(True)\n",
        "\n",
        "plt.show()\n"
      ],
      "metadata": {
        "id": "iEVv2MnNK1Rn"
      },
      "id": "iEVv2MnNK1Rn",
      "execution_count": null,
      "outputs": []
    },
    {
      "cell_type": "code",
      "source": [
        "import tensorflow as tf\n",
        "print(f\"TensorFlow version: {tf.__version__}\")\n",
        "print(f\"Is CUDA available? {tf.test.is_built_with_cuda()}\")\n",
        "print(f\"Number of CUDA-enabled GPUs: {len(tf.config.list_physical_devices('GPU'))}\")"
      ],
      "metadata": {
        "colab": {
          "base_uri": "https://localhost:8080/"
        },
        "id": "BcOgdWeviOKs",
        "outputId": "60ae3027-46f6-4dae-acd8-161549aac50b"
      },
      "id": "BcOgdWeviOKs",
      "execution_count": null,
      "outputs": [
        {
          "output_type": "stream",
          "name": "stdout",
          "text": [
            "TensorFlow version: 2.18.0\n",
            "Is CUDA available? True\n",
            "Number of CUDA-enabled GPUs: 1\n"
          ]
        }
      ]
    },
    {
      "cell_type": "code",
      "source": [
        "# 5. How do you install PyTorch and verify the PyTorch installation?\n",
        "\n",
        "!pip3 install torch torchvision torchaudio\n",
        "\n",
        "# Verify PyTorch installation\n",
        "import torch\n",
        "\n",
        "print(torch.__version__)\n",
        "print(torch.cuda.is_available()) # Check for CUDA availability\n",
        "print(torch.version.cuda) # Check CUDA version\n",
        "x = torch.rand(5, 3)\n",
        "x\n"
      ],
      "metadata": {
        "id": "sO-7sKS3SM9X"
      },
      "id": "sO-7sKS3SM9X",
      "execution_count": null,
      "outputs": []
    },
    {
      "cell_type": "code",
      "source": [
        "# 6. How do you create a simple neural network in PyTorch?\n",
        "\n",
        "import torch\n",
        "import torch.nn as nn\n",
        "import torch.optim as optim\n",
        "\n",
        "# Define the network architecture\n",
        "class SimpleNN(nn.Module):\n",
        "  def __init__(self, input_dim, hidden_dim, output_dim) :\n",
        "      super(SimpleNN,self).__init__()\n",
        "      self.fc1 = nn.Linear(input_dim, hidden_dim)\n",
        "      self.relu = nn.ReLU()\n",
        "      self.fc2 = nn.Linear(hidden_dim, output_dim)\n",
        "\n",
        "  def forward(self, x):\n",
        "    out = self.fc1(x)\n",
        "    out = self.relu(out)\n",
        "    out = self.fc2(out)\n",
        "    return out\n",
        "\n",
        "# Initialize the model\n",
        "\n",
        "input_dim = 10\n",
        "hidden_dim = 32\n",
        "output_dim = 1\n",
        "\n",
        "model = SimpleNN(input_dim, hidden_dim, output_dim)\n",
        "\n",
        "# Loss function and optimizers\n",
        "\n",
        "criterion = nn.BCEWithLogitsLoss()\n",
        "optimizer = optim.Adam(model.parameters(), lr=0.001)\n",
        "\n",
        "# Train the model\n",
        "\n",
        "X = torch.randn(100, input_dim)\n",
        "y = torch.randint(0, 2,(100,1)).float()\n",
        "\n",
        "# trainig loop\n",
        "for epoch in range(100):\n",
        "  outputs = model(X)\n",
        "  loss = criterion(outputs, y)\n",
        "\n",
        "  optimizer.zero_grad()\n",
        "  loss.backward()\n",
        "  optimizer.step()\n",
        "\n",
        "  if (epoch + 1 )% 10 == 0:\n",
        "    print(f\"Epoch [{epoch+1}/100], Loss: {loss.item():.4f}\\n\")\n",
        "\n",
        "# Step 6: Make predictions\n",
        "with torch.no_grad():\n",
        "  test_data = torch.randn(5, input_dim)\n",
        "  preds = torch.sigmoid(model(test_data))\n",
        "  print(preds)"
      ],
      "metadata": {
        "colab": {
          "base_uri": "https://localhost:8080/"
        },
        "id": "dNA3cmXMXZbo",
        "outputId": "4bde5b9a-868e-4cbc-f4ce-fad106ad3e40"
      },
      "id": "dNA3cmXMXZbo",
      "execution_count": null,
      "outputs": [
        {
          "output_type": "stream",
          "name": "stdout",
          "text": [
            "Epoch [10/100], Loss: 0.6600\n",
            "\n",
            "Epoch [20/100], Loss: 0.6476\n",
            "\n",
            "Epoch [30/100], Loss: 0.6355\n",
            "\n",
            "Epoch [40/100], Loss: 0.6234\n",
            "\n",
            "Epoch [50/100], Loss: 0.6112\n",
            "\n",
            "Epoch [60/100], Loss: 0.5988\n",
            "\n",
            "Epoch [70/100], Loss: 0.5858\n",
            "\n",
            "Epoch [80/100], Loss: 0.5721\n",
            "\n",
            "Epoch [90/100], Loss: 0.5577\n",
            "\n",
            "Epoch [100/100], Loss: 0.5428\n",
            "\n",
            "tensor([[0.4723],\n",
            "        [0.3572],\n",
            "        [0.4598],\n",
            "        [0.5070],\n",
            "        [0.7199]])\n"
          ]
        }
      ]
    },
    {
      "cell_type": "code",
      "source": [
        "# 7.  How do you define a loss function and optimizer in PyTorch?\n",
        "\n",
        "# Loss function\n",
        "criterion = nn.MSELoss()  # Example: Mean Squared Error loss\n",
        "\n",
        "# Optimizer\n",
        "optimizer = optim.Adam(model.parameters(), lr=0.001) # Example: Adam optimizer"
      ],
      "metadata": {
        "id": "U6sUUdUQcrej"
      },
      "id": "U6sUUdUQcrej",
      "execution_count": null,
      "outputs": []
    },
    {
      "cell_type": "code",
      "source": [
        "# 8.  How do you implement a custom loss function in PyTorch?\n",
        "\n",
        "import torch\n",
        "import torch.nn as nn\n",
        "\n",
        "class CustomLoss(nn.Module):\n",
        "  def __init__(self):\n",
        "    super(CustomLoss, self).__init__()\n",
        "\n",
        "  def forward(self, outputs, targets):\n",
        "    loss = torch.mean(torch.abs(outputs - targets))\n",
        "    return\n",
        "# for i.e\n",
        "\n",
        "criterion = CustomLoss()\n",
        "outputs = torch.randn(10,1)\n",
        "targets = torch.randn(10,1)\n",
        "loss = criterion(outputs, targets)\n",
        "print(loss)"
      ],
      "metadata": {
        "colab": {
          "base_uri": "https://localhost:8080/"
        },
        "id": "Ekk_xwQ-eD9s",
        "outputId": "16f69b72-1bde-412a-f3fc-8c293f9964ce"
      },
      "id": "Ekk_xwQ-eD9s",
      "execution_count": null,
      "outputs": [
        {
          "output_type": "stream",
          "name": "stdout",
          "text": [
            "None\n"
          ]
        }
      ]
    },
    {
      "cell_type": "code",
      "source": [
        "# 9. How do you save and load a TensorFlow model?\n",
        "\n",
        "\n",
        "# save model\n",
        "model.save(\"deep learning framework model.h5\")\n",
        "\n",
        "# load model\n",
        "model = tf.keras.models.load_model(\"deep learning framework model.h5\")"
      ],
      "metadata": {
        "colab": {
          "base_uri": "https://localhost:8080/"
        },
        "id": "alEvChrLfn91",
        "outputId": "b73c7a12-69cc-4070-a150-f44d71189957"
      },
      "id": "alEvChrLfn91",
      "execution_count": null,
      "outputs": [
        {
          "output_type": "stream",
          "name": "stderr",
          "text": [
            "WARNING:absl:You are saving your model as an HDF5 file via `model.save()` or `keras.saving.save_model(model)`. This file format is considered legacy. We recommend using instead the native Keras format, e.g. `model.save('my_model.keras')` or `keras.saving.save_model(model, 'my_model.keras')`. \n",
            "WARNING:absl:Compiled the loaded model, but the compiled metrics have yet to be built. `model.compile_metrics` will be empty until you train or evaluate the model.\n"
          ]
        }
      ]
    },
    {
      "cell_type": "code",
      "source": [],
      "metadata": {
        "id": "8L1OQyqyfYEl"
      },
      "id": "8L1OQyqyfYEl",
      "execution_count": null,
      "outputs": []
    },
    {
      "cell_type": "code",
      "source": [],
      "metadata": {
        "id": "WgYa0_MtfaJ_"
      },
      "id": "WgYa0_MtfaJ_",
      "execution_count": null,
      "outputs": []
    }
  ],
  "metadata": {
    "kernelspec": {
      "display_name": "Python 3",
      "name": "python3"
    },
    "language_info": {
      "codemirror_mode": {
        "name": "ipython",
        "version": 3
      },
      "file_extension": ".py",
      "mimetype": "text/x-python",
      "name": "python",
      "nbconvert_exporter": "python",
      "pygments_lexer": "ipython3",
      "version": "3.11.6"
    },
    "colab": {
      "provenance": []
    }
  },
  "nbformat": 4,
  "nbformat_minor": 5
}